{
  "cells": [
    {
      "cell_type": "code",
      "execution_count": 35,
      "id": "bc380734",
      "metadata": {
        "_cell_guid": "b1076dfc-b9ad-4769-8c92-a6c4dae69d19",
        "_uuid": "8f2839f25d086af736a60e9eeb907d3b93b6e0e5",
        "execution": {
          "iopub.execute_input": "2023-03-25T21:39:49.551271Z",
          "iopub.status.busy": "2023-03-25T21:39:49.550206Z",
          "iopub.status.idle": "2023-03-25T21:39:49.571337Z",
          "shell.execute_reply": "2023-03-25T21:39:49.570165Z"
        },
        "papermill": {
          "duration": 0.041766,
          "end_time": "2023-03-25T21:39:49.574697",
          "exception": false,
          "start_time": "2023-03-25T21:39:49.532931",
          "status": "completed"
        },
        "tags": [],
        "id": "bc380734"
      },
      "outputs": [],
      "source": [
        "import numpy as np \n",
        "import pandas as pd \n",
        "\n",
        "import seaborn as sns\n",
        "import matplotlib.pyplot as plt\n",
        "\n",
        "\n",
        "from sklearn.preprocessing import LabelEncoder\n",
        "import nltk"
      ]
    },
    {
      "cell_type": "code",
      "source": [
        "nltk.download('punkt')"
      ],
      "metadata": {
        "colab": {
          "base_uri": "https://localhost:8080/"
        },
        "id": "4MOPOO4yKjsn",
        "outputId": "c23cf855-ad9a-4594-a87e-e5e5dce80bf2"
      },
      "id": "4MOPOO4yKjsn",
      "execution_count": 37,
      "outputs": [
        {
          "output_type": "stream",
          "name": "stderr",
          "text": [
            "[nltk_data] Downloading package punkt to /root/nltk_data...\n",
            "[nltk_data]   Unzipping tokenizers/punkt.zip.\n"
          ]
        },
        {
          "output_type": "execute_result",
          "data": {
            "text/plain": [
              "True"
            ]
          },
          "metadata": {},
          "execution_count": 37
        }
      ]
    },
    {
      "cell_type": "code",
      "execution_count": 27,
      "id": "001dd269",
      "metadata": {
        "execution": {
          "iopub.execute_input": "2023-03-25T21:39:49.606108Z",
          "iopub.status.busy": "2023-03-25T21:39:49.605168Z",
          "iopub.status.idle": "2023-03-25T21:39:49.642481Z",
          "shell.execute_reply": "2023-03-25T21:39:49.641430Z"
        },
        "papermill": {
          "duration": 0.055526,
          "end_time": "2023-03-25T21:39:49.645311",
          "exception": false,
          "start_time": "2023-03-25T21:39:49.589785",
          "status": "completed"
        },
        "tags": [],
        "id": "001dd269"
      },
      "outputs": [],
      "source": [
        "data1 = pd.read_csv('''spam.csv''',encoding='ISO-8859-1')"
      ]
    },
    {
      "cell_type": "code",
      "source": [
        "df = data1"
      ],
      "metadata": {
        "id": "m9uTtbafKLWV"
      },
      "id": "m9uTtbafKLWV",
      "execution_count": 28,
      "outputs": []
    },
    {
      "cell_type": "code",
      "execution_count": 7,
      "id": "1099ffd3",
      "metadata": {
        "execution": {
          "iopub.execute_input": "2023-03-25T21:39:49.677360Z",
          "iopub.status.busy": "2023-03-25T21:39:49.676688Z",
          "iopub.status.idle": "2023-03-25T21:39:49.706787Z",
          "shell.execute_reply": "2023-03-25T21:39:49.705398Z"
        },
        "papermill": {
          "duration": 0.048619,
          "end_time": "2023-03-25T21:39:49.709402",
          "exception": false,
          "start_time": "2023-03-25T21:39:49.660783",
          "status": "completed"
        },
        "tags": [],
        "colab": {
          "base_uri": "https://localhost:8080/",
          "height": 206
        },
        "id": "1099ffd3",
        "outputId": "44f07c4a-da77-4adf-8603-29ae44837b38"
      },
      "outputs": [
        {
          "output_type": "execute_result",
          "data": {
            "text/plain": [
              "     v1                                                 v2 Unnamed: 2  \\\n",
              "0   ham  Go until jurong point, crazy.. Available only ...        NaN   \n",
              "1   ham                      Ok lar... Joking wif u oni...        NaN   \n",
              "2  spam  Free entry in 2 a wkly comp to win FA Cup fina...        NaN   \n",
              "3   ham  U dun say so early hor... U c already then say...        NaN   \n",
              "4   ham  Nah I don't think he goes to usf, he lives aro...        NaN   \n",
              "\n",
              "  Unnamed: 3 Unnamed: 4  \n",
              "0        NaN        NaN  \n",
              "1        NaN        NaN  \n",
              "2        NaN        NaN  \n",
              "3        NaN        NaN  \n",
              "4        NaN        NaN  "
            ],
            "text/html": [
              "\n",
              "  <div id=\"df-2d1c83c1-f138-4545-a0f1-f6519f102851\">\n",
              "    <div class=\"colab-df-container\">\n",
              "      <div>\n",
              "<style scoped>\n",
              "    .dataframe tbody tr th:only-of-type {\n",
              "        vertical-align: middle;\n",
              "    }\n",
              "\n",
              "    .dataframe tbody tr th {\n",
              "        vertical-align: top;\n",
              "    }\n",
              "\n",
              "    .dataframe thead th {\n",
              "        text-align: right;\n",
              "    }\n",
              "</style>\n",
              "<table border=\"1\" class=\"dataframe\">\n",
              "  <thead>\n",
              "    <tr style=\"text-align: right;\">\n",
              "      <th></th>\n",
              "      <th>v1</th>\n",
              "      <th>v2</th>\n",
              "      <th>Unnamed: 2</th>\n",
              "      <th>Unnamed: 3</th>\n",
              "      <th>Unnamed: 4</th>\n",
              "    </tr>\n",
              "  </thead>\n",
              "  <tbody>\n",
              "    <tr>\n",
              "      <th>0</th>\n",
              "      <td>ham</td>\n",
              "      <td>Go until jurong point, crazy.. Available only ...</td>\n",
              "      <td>NaN</td>\n",
              "      <td>NaN</td>\n",
              "      <td>NaN</td>\n",
              "    </tr>\n",
              "    <tr>\n",
              "      <th>1</th>\n",
              "      <td>ham</td>\n",
              "      <td>Ok lar... Joking wif u oni...</td>\n",
              "      <td>NaN</td>\n",
              "      <td>NaN</td>\n",
              "      <td>NaN</td>\n",
              "    </tr>\n",
              "    <tr>\n",
              "      <th>2</th>\n",
              "      <td>spam</td>\n",
              "      <td>Free entry in 2 a wkly comp to win FA Cup fina...</td>\n",
              "      <td>NaN</td>\n",
              "      <td>NaN</td>\n",
              "      <td>NaN</td>\n",
              "    </tr>\n",
              "    <tr>\n",
              "      <th>3</th>\n",
              "      <td>ham</td>\n",
              "      <td>U dun say so early hor... U c already then say...</td>\n",
              "      <td>NaN</td>\n",
              "      <td>NaN</td>\n",
              "      <td>NaN</td>\n",
              "    </tr>\n",
              "    <tr>\n",
              "      <th>4</th>\n",
              "      <td>ham</td>\n",
              "      <td>Nah I don't think he goes to usf, he lives aro...</td>\n",
              "      <td>NaN</td>\n",
              "      <td>NaN</td>\n",
              "      <td>NaN</td>\n",
              "    </tr>\n",
              "  </tbody>\n",
              "</table>\n",
              "</div>\n",
              "      <button class=\"colab-df-convert\" onclick=\"convertToInteractive('df-2d1c83c1-f138-4545-a0f1-f6519f102851')\"\n",
              "              title=\"Convert this dataframe to an interactive table.\"\n",
              "              style=\"display:none;\">\n",
              "        \n",
              "  <svg xmlns=\"http://www.w3.org/2000/svg\" height=\"24px\"viewBox=\"0 0 24 24\"\n",
              "       width=\"24px\">\n",
              "    <path d=\"M0 0h24v24H0V0z\" fill=\"none\"/>\n",
              "    <path d=\"M18.56 5.44l.94 2.06.94-2.06 2.06-.94-2.06-.94-.94-2.06-.94 2.06-2.06.94zm-11 1L8.5 8.5l.94-2.06 2.06-.94-2.06-.94L8.5 2.5l-.94 2.06-2.06.94zm10 10l.94 2.06.94-2.06 2.06-.94-2.06-.94-.94-2.06-.94 2.06-2.06.94z\"/><path d=\"M17.41 7.96l-1.37-1.37c-.4-.4-.92-.59-1.43-.59-.52 0-1.04.2-1.43.59L10.3 9.45l-7.72 7.72c-.78.78-.78 2.05 0 2.83L4 21.41c.39.39.9.59 1.41.59.51 0 1.02-.2 1.41-.59l7.78-7.78 2.81-2.81c.8-.78.8-2.07 0-2.86zM5.41 20L4 18.59l7.72-7.72 1.47 1.35L5.41 20z\"/>\n",
              "  </svg>\n",
              "      </button>\n",
              "      \n",
              "  <style>\n",
              "    .colab-df-container {\n",
              "      display:flex;\n",
              "      flex-wrap:wrap;\n",
              "      gap: 12px;\n",
              "    }\n",
              "\n",
              "    .colab-df-convert {\n",
              "      background-color: #E8F0FE;\n",
              "      border: none;\n",
              "      border-radius: 50%;\n",
              "      cursor: pointer;\n",
              "      display: none;\n",
              "      fill: #1967D2;\n",
              "      height: 32px;\n",
              "      padding: 0 0 0 0;\n",
              "      width: 32px;\n",
              "    }\n",
              "\n",
              "    .colab-df-convert:hover {\n",
              "      background-color: #E2EBFA;\n",
              "      box-shadow: 0px 1px 2px rgba(60, 64, 67, 0.3), 0px 1px 3px 1px rgba(60, 64, 67, 0.15);\n",
              "      fill: #174EA6;\n",
              "    }\n",
              "\n",
              "    [theme=dark] .colab-df-convert {\n",
              "      background-color: #3B4455;\n",
              "      fill: #D2E3FC;\n",
              "    }\n",
              "\n",
              "    [theme=dark] .colab-df-convert:hover {\n",
              "      background-color: #434B5C;\n",
              "      box-shadow: 0px 1px 3px 1px rgba(0, 0, 0, 0.15);\n",
              "      filter: drop-shadow(0px 1px 2px rgba(0, 0, 0, 0.3));\n",
              "      fill: #FFFFFF;\n",
              "    }\n",
              "  </style>\n",
              "\n",
              "      <script>\n",
              "        const buttonEl =\n",
              "          document.querySelector('#df-2d1c83c1-f138-4545-a0f1-f6519f102851 button.colab-df-convert');\n",
              "        buttonEl.style.display =\n",
              "          google.colab.kernel.accessAllowed ? 'block' : 'none';\n",
              "\n",
              "        async function convertToInteractive(key) {\n",
              "          const element = document.querySelector('#df-2d1c83c1-f138-4545-a0f1-f6519f102851');\n",
              "          const dataTable =\n",
              "            await google.colab.kernel.invokeFunction('convertToInteractive',\n",
              "                                                     [key], {});\n",
              "          if (!dataTable) return;\n",
              "\n",
              "          const docLinkHtml = 'Like what you see? Visit the ' +\n",
              "            '<a target=\"_blank\" href=https://colab.research.google.com/notebooks/data_table.ipynb>data table notebook</a>'\n",
              "            + ' to learn more about interactive tables.';\n",
              "          element.innerHTML = '';\n",
              "          dataTable['output_type'] = 'display_data';\n",
              "          await google.colab.output.renderOutput(dataTable, element);\n",
              "          const docLink = document.createElement('div');\n",
              "          docLink.innerHTML = docLinkHtml;\n",
              "          element.appendChild(docLink);\n",
              "        }\n",
              "      </script>\n",
              "    </div>\n",
              "  </div>\n",
              "  "
            ]
          },
          "metadata": {},
          "execution_count": 7
        }
      ],
      "source": [
        "\n",
        "df.head()\n"
      ]
    },
    {
      "cell_type": "code",
      "execution_count": 8,
      "id": "60cecaec",
      "metadata": {
        "execution": {
          "iopub.execute_input": "2023-03-25T21:39:49.741889Z",
          "iopub.status.busy": "2023-03-25T21:39:49.741162Z",
          "iopub.status.idle": "2023-03-25T21:39:49.760911Z",
          "shell.execute_reply": "2023-03-25T21:39:49.759580Z"
        },
        "papermill": {
          "duration": 0.038666,
          "end_time": "2023-03-25T21:39:49.763547",
          "exception": false,
          "start_time": "2023-03-25T21:39:49.724881",
          "status": "completed"
        },
        "tags": [],
        "colab": {
          "base_uri": "https://localhost:8080/",
          "height": 363
        },
        "id": "60cecaec",
        "outputId": "a2ec789b-d8e9-493a-8c88-d84b4d7f8717"
      },
      "outputs": [
        {
          "output_type": "execute_result",
          "data": {
            "text/plain": [
              "        v1                                                 v2 Unnamed: 2  \\\n",
              "2932   ham  Yo do you know anyone  &lt;#&gt;  or otherwise...        NaN   \n",
              "3431  spam  Camera - You are awarded a SiPix Digital Camer...        NaN   \n",
              "2427   ham      Do you think i can move  &lt;#&gt;  in a week        NaN   \n",
              "996    ham  Yetunde i'm in class can you not run water on ...        NaN   \n",
              "3857   ham                             R u still working now?        NaN   \n",
              "3434   ham  \\Hi darlin i cantdo anythingtomorrow as mypare...        NaN   \n",
              "2167   ham                   Yes.he have good crickiting mind        NaN   \n",
              "5427  spam  Santa Calling! Would your little ones like a c...        NaN   \n",
              "1181   ham                         You flippin your shit yet?        NaN   \n",
              "5490   ham                            K. I will sent it again        NaN   \n",
              "\n",
              "     Unnamed: 3 Unnamed: 4  \n",
              "2932        NaN        NaN  \n",
              "3431        NaN        NaN  \n",
              "2427        NaN        NaN  \n",
              "996         NaN        NaN  \n",
              "3857        NaN        NaN  \n",
              "3434        NaN        NaN  \n",
              "2167        NaN        NaN  \n",
              "5427        NaN        NaN  \n",
              "1181        NaN        NaN  \n",
              "5490        NaN        NaN  "
            ],
            "text/html": [
              "\n",
              "  <div id=\"df-98bdbcde-12a4-4f54-9564-584d0628312c\">\n",
              "    <div class=\"colab-df-container\">\n",
              "      <div>\n",
              "<style scoped>\n",
              "    .dataframe tbody tr th:only-of-type {\n",
              "        vertical-align: middle;\n",
              "    }\n",
              "\n",
              "    .dataframe tbody tr th {\n",
              "        vertical-align: top;\n",
              "    }\n",
              "\n",
              "    .dataframe thead th {\n",
              "        text-align: right;\n",
              "    }\n",
              "</style>\n",
              "<table border=\"1\" class=\"dataframe\">\n",
              "  <thead>\n",
              "    <tr style=\"text-align: right;\">\n",
              "      <th></th>\n",
              "      <th>v1</th>\n",
              "      <th>v2</th>\n",
              "      <th>Unnamed: 2</th>\n",
              "      <th>Unnamed: 3</th>\n",
              "      <th>Unnamed: 4</th>\n",
              "    </tr>\n",
              "  </thead>\n",
              "  <tbody>\n",
              "    <tr>\n",
              "      <th>2932</th>\n",
              "      <td>ham</td>\n",
              "      <td>Yo do you know anyone  &amp;lt;#&amp;gt;  or otherwise...</td>\n",
              "      <td>NaN</td>\n",
              "      <td>NaN</td>\n",
              "      <td>NaN</td>\n",
              "    </tr>\n",
              "    <tr>\n",
              "      <th>3431</th>\n",
              "      <td>spam</td>\n",
              "      <td>Camera - You are awarded a SiPix Digital Camer...</td>\n",
              "      <td>NaN</td>\n",
              "      <td>NaN</td>\n",
              "      <td>NaN</td>\n",
              "    </tr>\n",
              "    <tr>\n",
              "      <th>2427</th>\n",
              "      <td>ham</td>\n",
              "      <td>Do you think i can move  &amp;lt;#&amp;gt;  in a week</td>\n",
              "      <td>NaN</td>\n",
              "      <td>NaN</td>\n",
              "      <td>NaN</td>\n",
              "    </tr>\n",
              "    <tr>\n",
              "      <th>996</th>\n",
              "      <td>ham</td>\n",
              "      <td>Yetunde i'm in class can you not run water on ...</td>\n",
              "      <td>NaN</td>\n",
              "      <td>NaN</td>\n",
              "      <td>NaN</td>\n",
              "    </tr>\n",
              "    <tr>\n",
              "      <th>3857</th>\n",
              "      <td>ham</td>\n",
              "      <td>R u still working now?</td>\n",
              "      <td>NaN</td>\n",
              "      <td>NaN</td>\n",
              "      <td>NaN</td>\n",
              "    </tr>\n",
              "    <tr>\n",
              "      <th>3434</th>\n",
              "      <td>ham</td>\n",
              "      <td>\\Hi darlin i cantdo anythingtomorrow as mypare...</td>\n",
              "      <td>NaN</td>\n",
              "      <td>NaN</td>\n",
              "      <td>NaN</td>\n",
              "    </tr>\n",
              "    <tr>\n",
              "      <th>2167</th>\n",
              "      <td>ham</td>\n",
              "      <td>Yes.he have good crickiting mind</td>\n",
              "      <td>NaN</td>\n",
              "      <td>NaN</td>\n",
              "      <td>NaN</td>\n",
              "    </tr>\n",
              "    <tr>\n",
              "      <th>5427</th>\n",
              "      <td>spam</td>\n",
              "      <td>Santa Calling! Would your little ones like a c...</td>\n",
              "      <td>NaN</td>\n",
              "      <td>NaN</td>\n",
              "      <td>NaN</td>\n",
              "    </tr>\n",
              "    <tr>\n",
              "      <th>1181</th>\n",
              "      <td>ham</td>\n",
              "      <td>You flippin your shit yet?</td>\n",
              "      <td>NaN</td>\n",
              "      <td>NaN</td>\n",
              "      <td>NaN</td>\n",
              "    </tr>\n",
              "    <tr>\n",
              "      <th>5490</th>\n",
              "      <td>ham</td>\n",
              "      <td>K. I will sent it again</td>\n",
              "      <td>NaN</td>\n",
              "      <td>NaN</td>\n",
              "      <td>NaN</td>\n",
              "    </tr>\n",
              "  </tbody>\n",
              "</table>\n",
              "</div>\n",
              "      <button class=\"colab-df-convert\" onclick=\"convertToInteractive('df-98bdbcde-12a4-4f54-9564-584d0628312c')\"\n",
              "              title=\"Convert this dataframe to an interactive table.\"\n",
              "              style=\"display:none;\">\n",
              "        \n",
              "  <svg xmlns=\"http://www.w3.org/2000/svg\" height=\"24px\"viewBox=\"0 0 24 24\"\n",
              "       width=\"24px\">\n",
              "    <path d=\"M0 0h24v24H0V0z\" fill=\"none\"/>\n",
              "    <path d=\"M18.56 5.44l.94 2.06.94-2.06 2.06-.94-2.06-.94-.94-2.06-.94 2.06-2.06.94zm-11 1L8.5 8.5l.94-2.06 2.06-.94-2.06-.94L8.5 2.5l-.94 2.06-2.06.94zm10 10l.94 2.06.94-2.06 2.06-.94-2.06-.94-.94-2.06-.94 2.06-2.06.94z\"/><path d=\"M17.41 7.96l-1.37-1.37c-.4-.4-.92-.59-1.43-.59-.52 0-1.04.2-1.43.59L10.3 9.45l-7.72 7.72c-.78.78-.78 2.05 0 2.83L4 21.41c.39.39.9.59 1.41.59.51 0 1.02-.2 1.41-.59l7.78-7.78 2.81-2.81c.8-.78.8-2.07 0-2.86zM5.41 20L4 18.59l7.72-7.72 1.47 1.35L5.41 20z\"/>\n",
              "  </svg>\n",
              "      </button>\n",
              "      \n",
              "  <style>\n",
              "    .colab-df-container {\n",
              "      display:flex;\n",
              "      flex-wrap:wrap;\n",
              "      gap: 12px;\n",
              "    }\n",
              "\n",
              "    .colab-df-convert {\n",
              "      background-color: #E8F0FE;\n",
              "      border: none;\n",
              "      border-radius: 50%;\n",
              "      cursor: pointer;\n",
              "      display: none;\n",
              "      fill: #1967D2;\n",
              "      height: 32px;\n",
              "      padding: 0 0 0 0;\n",
              "      width: 32px;\n",
              "    }\n",
              "\n",
              "    .colab-df-convert:hover {\n",
              "      background-color: #E2EBFA;\n",
              "      box-shadow: 0px 1px 2px rgba(60, 64, 67, 0.3), 0px 1px 3px 1px rgba(60, 64, 67, 0.15);\n",
              "      fill: #174EA6;\n",
              "    }\n",
              "\n",
              "    [theme=dark] .colab-df-convert {\n",
              "      background-color: #3B4455;\n",
              "      fill: #D2E3FC;\n",
              "    }\n",
              "\n",
              "    [theme=dark] .colab-df-convert:hover {\n",
              "      background-color: #434B5C;\n",
              "      box-shadow: 0px 1px 3px 1px rgba(0, 0, 0, 0.15);\n",
              "      filter: drop-shadow(0px 1px 2px rgba(0, 0, 0, 0.3));\n",
              "      fill: #FFFFFF;\n",
              "    }\n",
              "  </style>\n",
              "\n",
              "      <script>\n",
              "        const buttonEl =\n",
              "          document.querySelector('#df-98bdbcde-12a4-4f54-9564-584d0628312c button.colab-df-convert');\n",
              "        buttonEl.style.display =\n",
              "          google.colab.kernel.accessAllowed ? 'block' : 'none';\n",
              "\n",
              "        async function convertToInteractive(key) {\n",
              "          const element = document.querySelector('#df-98bdbcde-12a4-4f54-9564-584d0628312c');\n",
              "          const dataTable =\n",
              "            await google.colab.kernel.invokeFunction('convertToInteractive',\n",
              "                                                     [key], {});\n",
              "          if (!dataTable) return;\n",
              "\n",
              "          const docLinkHtml = 'Like what you see? Visit the ' +\n",
              "            '<a target=\"_blank\" href=https://colab.research.google.com/notebooks/data_table.ipynb>data table notebook</a>'\n",
              "            + ' to learn more about interactive tables.';\n",
              "          element.innerHTML = '';\n",
              "          dataTable['output_type'] = 'display_data';\n",
              "          await google.colab.output.renderOutput(dataTable, element);\n",
              "          const docLink = document.createElement('div');\n",
              "          docLink.innerHTML = docLinkHtml;\n",
              "          element.appendChild(docLink);\n",
              "        }\n",
              "      </script>\n",
              "    </div>\n",
              "  </div>\n",
              "  "
            ]
          },
          "metadata": {},
          "execution_count": 8
        }
      ],
      "source": [
        "df.sample(10)"
      ]
    },
    {
      "cell_type": "code",
      "execution_count": 9,
      "id": "041ce990",
      "metadata": {
        "execution": {
          "iopub.execute_input": "2023-03-25T21:39:49.795854Z",
          "iopub.status.busy": "2023-03-25T21:39:49.795048Z",
          "iopub.status.idle": "2023-03-25T21:39:49.801182Z",
          "shell.execute_reply": "2023-03-25T21:39:49.800255Z"
        },
        "papermill": {
          "duration": 0.02504,
          "end_time": "2023-03-25T21:39:49.803475",
          "exception": false,
          "start_time": "2023-03-25T21:39:49.778435",
          "status": "completed"
        },
        "tags": [],
        "colab": {
          "base_uri": "https://localhost:8080/"
        },
        "id": "041ce990",
        "outputId": "3bd1a095-d69e-44c9-8812-9d24e4e1b174"
      },
      "outputs": [
        {
          "output_type": "execute_result",
          "data": {
            "text/plain": [
              "(5572, 5)"
            ]
          },
          "metadata": {},
          "execution_count": 9
        }
      ],
      "source": [
        "df.shape"
      ]
    },
    {
      "cell_type": "code",
      "execution_count": 10,
      "id": "57fc4c2f",
      "metadata": {
        "execution": {
          "iopub.execute_input": "2023-03-25T21:39:49.835436Z",
          "iopub.status.busy": "2023-03-25T21:39:49.834606Z",
          "iopub.status.idle": "2023-03-25T21:39:49.844732Z",
          "shell.execute_reply": "2023-03-25T21:39:49.843559Z"
        },
        "papermill": {
          "duration": 0.02924,
          "end_time": "2023-03-25T21:39:49.847354",
          "exception": false,
          "start_time": "2023-03-25T21:39:49.818114",
          "status": "completed"
        },
        "tags": [],
        "colab": {
          "base_uri": "https://localhost:8080/"
        },
        "id": "57fc4c2f",
        "outputId": "a90b38c1-6aaa-4586-a670-fc51ed574d31"
      },
      "outputs": [
        {
          "output_type": "execute_result",
          "data": {
            "text/plain": [
              "v1               0\n",
              "v2               0\n",
              "Unnamed: 2    5522\n",
              "Unnamed: 3    5560\n",
              "Unnamed: 4    5566\n",
              "dtype: int64"
            ]
          },
          "metadata": {},
          "execution_count": 10
        }
      ],
      "source": [
        "df.isnull().sum()"
      ]
    },
    {
      "cell_type": "markdown",
      "id": "394c4934",
      "metadata": {
        "execution": {
          "iopub.execute_input": "2023-03-22T20:21:32.200691Z",
          "iopub.status.busy": "2023-03-22T20:21:32.200233Z",
          "iopub.status.idle": "2023-03-22T20:21:32.206516Z",
          "shell.execute_reply": "2023-03-22T20:21:32.205064Z",
          "shell.execute_reply.started": "2023-03-22T20:21:32.200650Z"
        },
        "papermill": {
          "duration": 0.014469,
          "end_time": "2023-03-25T21:39:49.876689",
          "exception": false,
          "start_time": "2023-03-25T21:39:49.862220",
          "status": "completed"
        },
        "tags": [],
        "id": "394c4934"
      },
      "source": [
        "##Data cleaning "
      ]
    },
    {
      "cell_type": "code",
      "execution_count": 11,
      "id": "34b70cec",
      "metadata": {
        "execution": {
          "iopub.execute_input": "2023-03-25T21:39:49.908612Z",
          "iopub.status.busy": "2023-03-25T21:39:49.907598Z",
          "iopub.status.idle": "2023-03-25T21:39:49.932823Z",
          "shell.execute_reply": "2023-03-25T21:39:49.931024Z"
        },
        "papermill": {
          "duration": 0.045497,
          "end_time": "2023-03-25T21:39:49.936806",
          "exception": false,
          "start_time": "2023-03-25T21:39:49.891309",
          "status": "completed"
        },
        "tags": [],
        "colab": {
          "base_uri": "https://localhost:8080/"
        },
        "id": "34b70cec",
        "outputId": "3c017a54-17cb-49b4-8423-00cbf072480e"
      },
      "outputs": [
        {
          "output_type": "stream",
          "name": "stdout",
          "text": [
            "<class 'pandas.core.frame.DataFrame'>\n",
            "RangeIndex: 5572 entries, 0 to 5571\n",
            "Data columns (total 5 columns):\n",
            " #   Column      Non-Null Count  Dtype \n",
            "---  ------      --------------  ----- \n",
            " 0   v1          5572 non-null   object\n",
            " 1   v2          5572 non-null   object\n",
            " 2   Unnamed: 2  50 non-null     object\n",
            " 3   Unnamed: 3  12 non-null     object\n",
            " 4   Unnamed: 4  6 non-null      object\n",
            "dtypes: object(5)\n",
            "memory usage: 217.8+ KB\n"
          ]
        }
      ],
      "source": [
        "df.info()"
      ]
    },
    {
      "cell_type": "code",
      "execution_count": 12,
      "id": "29fc96bd",
      "metadata": {
        "execution": {
          "iopub.execute_input": "2023-03-25T21:39:49.970771Z",
          "iopub.status.busy": "2023-03-25T21:39:49.969814Z",
          "iopub.status.idle": "2023-03-25T21:39:49.977704Z",
          "shell.execute_reply": "2023-03-25T21:39:49.976097Z"
        },
        "papermill": {
          "duration": 0.027681,
          "end_time": "2023-03-25T21:39:49.980477",
          "exception": false,
          "start_time": "2023-03-25T21:39:49.952796",
          "status": "completed"
        },
        "tags": [],
        "id": "29fc96bd"
      },
      "outputs": [],
      "source": [
        "df=df.drop(columns=['Unnamed: 2',\"Unnamed: 3\",'Unnamed: 4'],inplace=False)"
      ]
    },
    {
      "cell_type": "code",
      "execution_count": 31,
      "id": "e272fb71",
      "metadata": {
        "execution": {
          "iopub.execute_input": "2023-03-25T21:39:50.014222Z",
          "iopub.status.busy": "2023-03-25T21:39:50.013055Z",
          "iopub.status.idle": "2023-03-25T21:39:50.022271Z",
          "shell.execute_reply": "2023-03-25T21:39:50.020594Z"
        },
        "papermill": {
          "duration": 0.029298,
          "end_time": "2023-03-25T21:39:50.025242",
          "exception": false,
          "start_time": "2023-03-25T21:39:49.995944",
          "status": "completed"
        },
        "tags": [],
        "id": "e272fb71"
      },
      "outputs": [],
      "source": [
        "df=df.rename(columns={\"v1\":\"target\",\"v2\":\"text\"},inplace=False)\n"
      ]
    },
    {
      "cell_type": "code",
      "execution_count": 16,
      "id": "4a10c591",
      "metadata": {
        "execution": {
          "iopub.execute_input": "2023-03-25T21:39:50.058068Z",
          "iopub.status.busy": "2023-03-25T21:39:50.057039Z",
          "iopub.status.idle": "2023-03-25T21:39:51.229081Z",
          "shell.execute_reply": "2023-03-25T21:39:51.227606Z"
        },
        "papermill": {
          "duration": 1.191857,
          "end_time": "2023-03-25T21:39:51.232212",
          "exception": false,
          "start_time": "2023-03-25T21:39:50.040355",
          "status": "completed"
        },
        "tags": [],
        "id": "4a10c591"
      },
      "outputs": [],
      "source": [
        "encoder = LabelEncoder()"
      ]
    },
    {
      "cell_type": "code",
      "execution_count": 17,
      "id": "b27fb870",
      "metadata": {
        "execution": {
          "iopub.execute_input": "2023-03-25T21:39:51.265563Z",
          "iopub.status.busy": "2023-03-25T21:39:51.264411Z",
          "iopub.status.idle": "2023-03-25T21:39:51.273319Z",
          "shell.execute_reply": "2023-03-25T21:39:51.272265Z"
        },
        "papermill": {
          "duration": 0.027904,
          "end_time": "2023-03-25T21:39:51.275874",
          "exception": false,
          "start_time": "2023-03-25T21:39:51.247970",
          "status": "completed"
        },
        "tags": [],
        "id": "b27fb870"
      },
      "outputs": [],
      "source": [
        "df['target']=encoder.fit_transform(df['target'])"
      ]
    },
    {
      "cell_type": "code",
      "execution_count": 18,
      "id": "063d5900",
      "metadata": {
        "execution": {
          "iopub.execute_input": "2023-03-25T21:39:51.338151Z",
          "iopub.status.busy": "2023-03-25T21:39:51.337224Z",
          "iopub.status.idle": "2023-03-25T21:39:51.349806Z",
          "shell.execute_reply": "2023-03-25T21:39:51.348448Z"
        },
        "papermill": {
          "duration": 0.031447,
          "end_time": "2023-03-25T21:39:51.352183",
          "exception": false,
          "start_time": "2023-03-25T21:39:51.320736",
          "status": "completed"
        },
        "tags": [],
        "colab": {
          "base_uri": "https://localhost:8080/"
        },
        "id": "063d5900",
        "outputId": "394e01ed-06b4-4dad-907b-c574d19676bd"
      },
      "outputs": [
        {
          "output_type": "execute_result",
          "data": {
            "text/plain": [
              "403"
            ]
          },
          "metadata": {},
          "execution_count": 18
        }
      ],
      "source": [
        "df.duplicated().sum()"
      ]
    },
    {
      "cell_type": "code",
      "execution_count": 19,
      "id": "b8ab485c",
      "metadata": {
        "execution": {
          "iopub.execute_input": "2023-03-25T21:39:51.384480Z",
          "iopub.status.busy": "2023-03-25T21:39:51.384038Z",
          "iopub.status.idle": "2023-03-25T21:39:51.395499Z",
          "shell.execute_reply": "2023-03-25T21:39:51.394190Z"
        },
        "papermill": {
          "duration": 0.030644,
          "end_time": "2023-03-25T21:39:51.398395",
          "exception": false,
          "start_time": "2023-03-25T21:39:51.367751",
          "status": "completed"
        },
        "tags": [],
        "id": "b8ab485c"
      },
      "outputs": [],
      "source": [
        "df=df.drop_duplicates(keep='first')"
      ]
    },
    {
      "cell_type": "code",
      "execution_count": 20,
      "id": "de234b2b",
      "metadata": {
        "execution": {
          "iopub.execute_input": "2023-03-25T21:39:51.430433Z",
          "iopub.status.busy": "2023-03-25T21:39:51.430003Z",
          "iopub.status.idle": "2023-03-25T21:39:51.437182Z",
          "shell.execute_reply": "2023-03-25T21:39:51.435935Z"
        },
        "papermill": {
          "duration": 0.0263,
          "end_time": "2023-03-25T21:39:51.439657",
          "exception": false,
          "start_time": "2023-03-25T21:39:51.413357",
          "status": "completed"
        },
        "tags": [],
        "colab": {
          "base_uri": "https://localhost:8080/"
        },
        "id": "de234b2b",
        "outputId": "5b745105-c341-42f8-a4da-5afe19bc8e82"
      },
      "outputs": [
        {
          "output_type": "execute_result",
          "data": {
            "text/plain": [
              "(5169, 2)"
            ]
          },
          "metadata": {},
          "execution_count": 20
        }
      ],
      "source": [
        "df.shape"
      ]
    },
    {
      "cell_type": "code",
      "execution_count": 29,
      "id": "0946aed1",
      "metadata": {
        "execution": {
          "iopub.execute_input": "2023-03-25T21:39:51.874251Z",
          "iopub.status.busy": "2023-03-25T21:39:51.872940Z",
          "iopub.status.idle": "2023-03-25T21:39:52.126138Z",
          "shell.execute_reply": "2023-03-25T21:39:52.124678Z"
        },
        "papermill": {
          "duration": 0.273531,
          "end_time": "2023-03-25T21:39:52.129162",
          "exception": false,
          "start_time": "2023-03-25T21:39:51.855631",
          "status": "completed"
        },
        "tags": [],
        "colab": {
          "base_uri": "https://localhost:8080/",
          "height": 467
        },
        "id": "0946aed1",
        "outputId": "c6b7427c-30ff-4b34-9187-3a5e88ea010f"
      },
      "outputs": [
        {
          "output_type": "execute_result",
          "data": {
            "text/plain": [
              "<function matplotlib.pyplot.show(close=None, block=None)>"
            ]
          },
          "metadata": {},
          "execution_count": 29
        },
        {
          "output_type": "display_data",
          "data": {
            "text/plain": [
              "<Figure size 640x480 with 1 Axes>"
            ],
            "image/png": "[encoded data removed]"
          },
          "metadata": {}
        }
      ],
      "source": [
        "ax=sns.countplot(data=data1, x='v1')\n",
        "for label in ax.containers:\n",
        "    ax.bar_label(label)\n",
        "plt.show"
      ]
    },
    {
      "cell_type": "code",
      "execution_count": 32,
      "id": "fe22590a",
      "metadata": {
        "execution": {
          "iopub.execute_input": "2023-03-25T21:39:52.162891Z",
          "iopub.status.busy": "2023-03-25T21:39:52.162456Z",
          "iopub.status.idle": "2023-03-25T21:39:52.172688Z",
          "shell.execute_reply": "2023-03-25T21:39:52.171435Z"
        },
        "papermill": {
          "duration": 0.0305,
          "end_time": "2023-03-25T21:39:52.175313",
          "exception": false,
          "start_time": "2023-03-25T21:39:52.144813",
          "status": "completed"
        },
        "tags": [],
        "id": "fe22590a"
      },
      "outputs": [],
      "source": [
        "df['num_character']=df['text'].apply(len)"
      ]
    },
    {
      "cell_type": "code",
      "execution_count": 38,
      "id": "dbd05c45",
      "metadata": {
        "execution": {
          "iopub.execute_input": "2023-03-25T21:39:52.208510Z",
          "iopub.status.busy": "2023-03-25T21:39:52.208095Z",
          "iopub.status.idle": "2023-03-25T21:39:54.160801Z",
          "shell.execute_reply": "2023-03-25T21:39:54.159318Z"
        },
        "papermill": {
          "duration": 1.973131,
          "end_time": "2023-03-25T21:39:54.164147",
          "exception": false,
          "start_time": "2023-03-25T21:39:52.191016",
          "status": "completed"
        },
        "tags": [],
        "id": "dbd05c45"
      },
      "outputs": [],
      "source": [
        "df['total_words']=df['text'].apply(lambda x:len(nltk.word_tokenize(x))) #break the sentence  into word by word"
      ]
    },
    {
      "cell_type": "code",
      "execution_count": 39,
      "id": "c314ffa4",
      "metadata": {
        "execution": {
          "iopub.execute_input": "2023-03-25T21:39:54.197593Z",
          "iopub.status.busy": "2023-03-25T21:39:54.197153Z",
          "iopub.status.idle": "2023-03-25T21:39:54.535498Z",
          "shell.execute_reply": "2023-03-25T21:39:54.534251Z"
        },
        "papermill": {
          "duration": 0.358503,
          "end_time": "2023-03-25T21:39:54.538713",
          "exception": false,
          "start_time": "2023-03-25T21:39:54.180210",
          "status": "completed"
        },
        "tags": [],
        "id": "c314ffa4"
      },
      "outputs": [],
      "source": [
        "#no. of sentences per message\n",
        "df['total_sentence']=df['text'].apply(lambda x:len(nltk.sent_tokenize(x)))"
      ]
    },
    {
      "cell_type": "code",
      "execution_count": 40,
      "id": "797b125d",
      "metadata": {
        "execution": {
          "iopub.execute_input": "2023-03-25T21:39:54.572562Z",
          "iopub.status.busy": "2023-03-25T21:39:54.572125Z",
          "iopub.status.idle": "2023-03-25T21:39:54.585555Z",
          "shell.execute_reply": "2023-03-25T21:39:54.583975Z"
        },
        "papermill": {
          "duration": 0.03402,
          "end_time": "2023-03-25T21:39:54.588559",
          "exception": false,
          "start_time": "2023-03-25T21:39:54.554539",
          "status": "completed"
        },
        "tags": [],
        "colab": {
          "base_uri": "https://localhost:8080/",
          "height": 337
        },
        "id": "797b125d",
        "outputId": "2c0d8cac-88fd-4cc7-869d-dca37d4ed8dd"
      },
      "outputs": [
        {
          "output_type": "execute_result",
          "data": {
            "text/plain": [
              "  target                                               text Unnamed: 2  \\\n",
              "0    ham  Go until jurong point, crazy.. Available only ...        NaN   \n",
              "1    ham                      Ok lar... Joking wif u oni...        NaN   \n",
              "2   spam  Free entry in 2 a wkly comp to win FA Cup fina...        NaN   \n",
              "3    ham  U dun say so early hor... U c already then say...        NaN   \n",
              "4    ham  Nah I don't think he goes to usf, he lives aro...        NaN   \n",
              "\n",
              "  Unnamed: 3 Unnamed: 4  num_character  total_words  total_sentence  \n",
              "0        NaN        NaN            111           24               2  \n",
              "1        NaN        NaN             29            8               2  \n",
              "2        NaN        NaN            155           37               2  \n",
              "3        NaN        NaN             49           13               1  \n",
              "4        NaN        NaN             61           15               1  "
            ],
            "text/html": [
              "\n",
              "  <div id=\"df-61d0bf4a-2f23-4218-8ff2-8ce2ca3f2f18\">\n",
              "    <div class=\"colab-df-container\">\n",
              "      <div>\n",
              "<style scoped>\n",
              "    .dataframe tbody tr th:only-of-type {\n",
              "        vertical-align: middle;\n",
              "    }\n",
              "\n",
              "    .dataframe tbody tr th {\n",
              "        vertical-align: top;\n",
              "    }\n",
              "\n",
              "    .dataframe thead th {\n",
              "        text-align: right;\n",
              "    }\n",
              "</style>\n",
              "<table border=\"1\" class=\"dataframe\">\n",
              "  <thead>\n",
              "    <tr style=\"text-align: right;\">\n",
              "      <th></th>\n",
              "      <th>target</th>\n",
              "      <th>text</th>\n",
              "      <th>Unnamed: 2</th>\n",
              "      <th>Unnamed: 3</th>\n",
              "      <th>Unnamed: 4</th>\n",
              "      <th>num_character</th>\n",
              "      <th>total_words</th>\n",
              "      <th>total_sentence</th>\n",
              "    </tr>\n",
              "  </thead>\n",
              "  <tbody>\n",
              "    <tr>\n",
              "      <th>0</th>\n",
              "      <td>ham</td>\n",
              "      <td>Go until jurong point, crazy.. Available only ...</td>\n",
              "      <td>NaN</td>\n",
              "      <td>NaN</td>\n",
              "      <td>NaN</td>\n",
              "      <td>111</td>\n",
              "      <td>24</td>\n",
              "      <td>2</td>\n",
              "    </tr>\n",
              "    <tr>\n",
              "      <th>1</th>\n",
              "      <td>ham</td>\n",
              "      <td>Ok lar... Joking wif u oni...</td>\n",
              "      <td>NaN</td>\n",
              "      <td>NaN</td>\n",
              "      <td>NaN</td>\n",
              "      <td>29</td>\n",
              "      <td>8</td>\n",
              "      <td>2</td>\n",
              "    </tr>\n",
              "    <tr>\n",
              "      <th>2</th>\n",
              "      <td>spam</td>\n",
              "      <td>Free entry in 2 a wkly comp to win FA Cup fina...</td>\n",
              "      <td>NaN</td>\n",
              "      <td>NaN</td>\n",
              "      <td>NaN</td>\n",
              "      <td>155</td>\n",
              "      <td>37</td>\n",
              "      <td>2</td>\n",
              "    </tr>\n",
              "    <tr>\n",
              "      <th>3</th>\n",
              "      <td>ham</td>\n",
              "      <td>U dun say so early hor... U c already then say...</td>\n",
              "      <td>NaN</td>\n",
              "      <td>NaN</td>\n",
              "      <td>NaN</td>\n",
              "      <td>49</td>\n",
              "      <td>13</td>\n",
              "      <td>1</td>\n",
              "    </tr>\n",
              "    <tr>\n",
              "      <th>4</th>\n",
              "      <td>ham</td>\n",
              "      <td>Nah I don't think he goes to usf, he lives aro...</td>\n",
              "      <td>NaN</td>\n",
              "      <td>NaN</td>\n",
              "      <td>NaN</td>\n",
              "      <td>61</td>\n",
              "      <td>15</td>\n",
              "      <td>1</td>\n",
              "    </tr>\n",
              "  </tbody>\n",
              "</table>\n",
              "</div>\n",
              "      <button class=\"colab-df-convert\" onclick=\"convertToInteractive('df-61d0bf4a-2f23-4218-8ff2-8ce2ca3f2f18')\"\n",
              "              title=\"Convert this dataframe to an interactive table.\"\n",
              "              style=\"display:none;\">\n",
              "        \n",
              "  <svg xmlns=\"http://www.w3.org/2000/svg\" height=\"24px\"viewBox=\"0 0 24 24\"\n",
              "       width=\"24px\">\n",
              "    <path d=\"M0 0h24v24H0V0z\" fill=\"none\"/>\n",
              "    <path d=\"M18.56 5.44l.94 2.06.94-2.06 2.06-.94-2.06-.94-.94-2.06-.94 2.06-2.06.94zm-11 1L8.5 8.5l.94-2.06 2.06-.94-2.06-.94L8.5 2.5l-.94 2.06-2.06.94zm10 10l.94 2.06.94-2.06 2.06-.94-2.06-.94-.94-2.06-.94 2.06-2.06.94z\"/><path d=\"M17.41 7.96l-1.37-1.37c-.4-.4-.92-.59-1.43-.59-.52 0-1.04.2-1.43.59L10.3 9.45l-7.72 7.72c-.78.78-.78 2.05 0 2.83L4 21.41c.39.39.9.59 1.41.59.51 0 1.02-.2 1.41-.59l7.78-7.78 2.81-2.81c.8-.78.8-2.07 0-2.86zM5.41 20L4 18.59l7.72-7.72 1.47 1.35L5.41 20z\"/>\n",
              "  </svg>\n",
              "      </button>\n",
              "      \n",
              "  <style>\n",
              "    .colab-df-container {\n",
              "      display:flex;\n",
              "      flex-wrap:wrap;\n",
              "      gap: 12px;\n",
              "    }\n",
              "\n",
              "    .colab-df-convert {\n",
              "      background-color: #E8F0FE;\n",
              "      border: none;\n",
              "      border-radius: 50%;\n",
              "      cursor: pointer;\n",
              "      display: none;\n",
              "      fill: #1967D2;\n",
              "      height: 32px;\n",
              "      padding: 0 0 0 0;\n",
              "      width: 32px;\n",
              "    }\n",
              "\n",
              "    .colab-df-convert:hover {\n",
              "      background-color: #E2EBFA;\n",
              "      box-shadow: 0px 1px 2px rgba(60, 64, 67, 0.3), 0px 1px 3px 1px rgba(60, 64, 67, 0.15);\n",
              "      fill: #174EA6;\n",
              "    }\n",
              "\n",
              "    [theme=dark] .colab-df-convert {\n",
              "      background-color: #3B4455;\n",
              "      fill: #D2E3FC;\n",
              "    }\n",
              "\n",
              "    [theme=dark] .colab-df-convert:hover {\n",
              "      background-color: #434B5C;\n",
              "      box-shadow: 0px 1px 3px 1px rgba(0, 0, 0, 0.15);\n",
              "      filter: drop-shadow(0px 1px 2px rgba(0, 0, 0, 0.3));\n",
              "      fill: #FFFFFF;\n",
              "    }\n",
              "  </style>\n",
              "\n",
              "      <script>\n",
              "        const buttonEl =\n",
              "          document.querySelector('#df-61d0bf4a-2f23-4218-8ff2-8ce2ca3f2f18 button.colab-df-convert');\n",
              "        buttonEl.style.display =\n",
              "          google.colab.kernel.accessAllowed ? 'block' : 'none';\n",
              "\n",
              "        async function convertToInteractive(key) {\n",
              "          const element = document.querySelector('#df-61d0bf4a-2f23-4218-8ff2-8ce2ca3f2f18');\n",
              "          const dataTable =\n",
              "            await google.colab.kernel.invokeFunction('convertToInteractive',\n",
              "                                                     [key], {});\n",
              "          if (!dataTable) return;\n",
              "\n",
              "          const docLinkHtml = 'Like what you see? Visit the ' +\n",
              "            '<a target=\"_blank\" href=https://colab.research.google.com/notebooks/data_table.ipynb>data table notebook</a>'\n",
              "            + ' to learn more about interactive tables.';\n",
              "          element.innerHTML = '';\n",
              "          dataTable['output_type'] = 'display_data';\n",
              "          await google.colab.output.renderOutput(dataTable, element);\n",
              "          const docLink = document.createElement('div');\n",
              "          docLink.innerHTML = docLinkHtml;\n",
              "          element.appendChild(docLink);\n",
              "        }\n",
              "      </script>\n",
              "    </div>\n",
              "  </div>\n",
              "  "
            ]
          },
          "metadata": {},
          "execution_count": 40
        }
      ],
      "source": [
        "df.head()"
      ]
    },
    {
      "cell_type": "code",
      "execution_count": 41,
      "id": "ebcf74cc",
      "metadata": {
        "execution": {
          "iopub.execute_input": "2023-03-25T21:39:54.621841Z",
          "iopub.status.busy": "2023-03-25T21:39:54.621383Z",
          "iopub.status.idle": "2023-03-25T21:39:54.648207Z",
          "shell.execute_reply": "2023-03-25T21:39:54.646876Z"
        },
        "papermill": {
          "duration": 0.046634,
          "end_time": "2023-03-25T21:39:54.650976",
          "exception": false,
          "start_time": "2023-03-25T21:39:54.604342",
          "status": "completed"
        },
        "tags": [],
        "colab": {
          "base_uri": "https://localhost:8080/",
          "height": 300
        },
        "id": "ebcf74cc",
        "outputId": "8dddcd19-40be-401f-820c-4dc4eb2f565b"
      },
      "outputs": [
        {
          "output_type": "execute_result",
          "data": {
            "text/plain": [
              "       num_character  total_words  total_sentence\n",
              "count    5572.000000  5572.000000     5572.000000\n",
              "mean       80.118808    18.699390        1.996411\n",
              "std        59.690841    13.741932        1.520159\n",
              "min         2.000000     1.000000        1.000000\n",
              "25%        36.000000     9.000000        1.000000\n",
              "50%        61.000000    15.000000        1.500000\n",
              "75%       121.000000    27.000000        2.000000\n",
              "max       910.000000   220.000000       38.000000"
            ],
            "text/html": [
              "\n",
              "  <div id=\"df-1a80c39c-acbf-48dd-a82e-43162d9c509b\">\n",
              "    <div class=\"colab-df-container\">\n",
              "      <div>\n",
              "<style scoped>\n",
              "    .dataframe tbody tr th:only-of-type {\n",
              "        vertical-align: middle;\n",
              "    }\n",
              "\n",
              "    .dataframe tbody tr th {\n",
              "        vertical-align: top;\n",
              "    }\n",
              "\n",
              "    .dataframe thead th {\n",
              "        text-align: right;\n",
              "    }\n",
              "</style>\n",
              "<table border=\"1\" class=\"dataframe\">\n",
              "  <thead>\n",
              "    <tr style=\"text-align: right;\">\n",
              "      <th></th>\n",
              "      <th>num_character</th>\n",
              "      <th>total_words</th>\n",
              "      <th>total_sentence</th>\n",
              "    </tr>\n",
              "  </thead>\n",
              "  <tbody>\n",
              "    <tr>\n",
              "      <th>count</th>\n",
              "      <td>5572.000000</td>\n",
              "      <td>5572.000000</td>\n",
              "      <td>5572.000000</td>\n",
              "    </tr>\n",
              "    <tr>\n",
              "      <th>mean</th>\n",
              "      <td>80.118808</td>\n",
              "      <td>18.699390</td>\n",
              "      <td>1.996411</td>\n",
              "    </tr>\n",
              "    <tr>\n",
              "      <th>std</th>\n",
              "      <td>59.690841</td>\n",
              "      <td>13.741932</td>\n",
              "      <td>1.520159</td>\n",
              "    </tr>\n",
              "    <tr>\n",
              "      <th>min</th>\n",
              "      <td>2.000000</td>\n",
              "      <td>1.000000</td>\n",
              "      <td>1.000000</td>\n",
              "    </tr>\n",
              "    <tr>\n",
              "      <th>25%</th>\n",
              "      <td>36.000000</td>\n",
              "      <td>9.000000</td>\n",
              "      <td>1.000000</td>\n",
              "    </tr>\n",
              "    <tr>\n",
              "      <th>50%</th>\n",
              "      <td>61.000000</td>\n",
              "      <td>15.000000</td>\n",
              "      <td>1.500000</td>\n",
              "    </tr>\n",
              "    <tr>\n",
              "      <th>75%</th>\n",
              "      <td>121.000000</td>\n",
              "      <td>27.000000</td>\n",
              "      <td>2.000000</td>\n",
              "    </tr>\n",
              "    <tr>\n",
              "      <th>max</th>\n",
              "      <td>910.000000</td>\n",
              "      <td>220.000000</td>\n",
              "      <td>38.000000</td>\n",
              "    </tr>\n",
              "  </tbody>\n",
              "</table>\n",
              "</div>\n",
              "      <button class=\"colab-df-convert\" onclick=\"convertToInteractive('df-1a80c39c-acbf-48dd-a82e-43162d9c509b')\"\n",
              "              title=\"Convert this dataframe to an interactive table.\"\n",
              "              style=\"display:none;\">\n",
              "        \n",
              "  <svg xmlns=\"http://www.w3.org/2000/svg\" height=\"24px\"viewBox=\"0 0 24 24\"\n",
              "       width=\"24px\">\n",
              "    <path d=\"M0 0h24v24H0V0z\" fill=\"none\"/>\n",
              "    <path d=\"M18.56 5.44l.94 2.06.94-2.06 2.06-.94-2.06-.94-.94-2.06-.94 2.06-2.06.94zm-11 1L8.5 8.5l.94-2.06 2.06-.94-2.06-.94L8.5 2.5l-.94 2.06-2.06.94zm10 10l.94 2.06.94-2.06 2.06-.94-2.06-.94-.94-2.06-.94 2.06-2.06.94z\"/><path d=\"M17.41 7.96l-1.37-1.37c-.4-.4-.92-.59-1.43-.59-.52 0-1.04.2-1.43.59L10.3 9.45l-7.72 7.72c-.78.78-.78 2.05 0 2.83L4 21.41c.39.39.9.59 1.41.59.51 0 1.02-.2 1.41-.59l7.78-7.78 2.81-2.81c.8-.78.8-2.07 0-2.86zM5.41 20L4 18.59l7.72-7.72 1.47 1.35L5.41 20z\"/>\n",
              "  </svg>\n",
              "      </button>\n",
              "      \n",
              "  <style>\n",
              "    .colab-df-container {\n",
              "      display:flex;\n",
              "      flex-wrap:wrap;\n",
              "      gap: 12px;\n",
              "    }\n",
              "\n",
              "    .colab-df-convert {\n",
              "      background-color: #E8F0FE;\n",
              "      border: none;\n",
              "      border-radius: 50%;\n",
              "      cursor: pointer;\n",
              "      display: none;\n",
              "      fill: #1967D2;\n",
              "      height: 32px;\n",
              "      padding: 0 0 0 0;\n",
              "      width: 32px;\n",
              "    }\n",
              "\n",
              "    .colab-df-convert:hover {\n",
              "      background-color: #E2EBFA;\n",
              "      box-shadow: 0px 1px 2px rgba(60, 64, 67, 0.3), 0px 1px 3px 1px rgba(60, 64, 67, 0.15);\n",
              "      fill: #174EA6;\n",
              "    }\n",
              "\n",
              "    [theme=dark] .colab-df-convert {\n",
              "      background-color: #3B4455;\n",
              "      fill: #D2E3FC;\n",
              "    }\n",
              "\n",
              "    [theme=dark] .colab-df-convert:hover {\n",
              "      background-color: #434B5C;\n",
              "      box-shadow: 0px 1px 3px 1px rgba(0, 0, 0, 0.15);\n",
              "      filter: drop-shadow(0px 1px 2px rgba(0, 0, 0, 0.3));\n",
              "      fill: #FFFFFF;\n",
              "    }\n",
              "  </style>\n",
              "\n",
              "      <script>\n",
              "        const buttonEl =\n",
              "          document.querySelector('#df-1a80c39c-acbf-48dd-a82e-43162d9c509b button.colab-df-convert');\n",
              "        buttonEl.style.display =\n",
              "          google.colab.kernel.accessAllowed ? 'block' : 'none';\n",
              "\n",
              "        async function convertToInteractive(key) {\n",
              "          const element = document.querySelector('#df-1a80c39c-acbf-48dd-a82e-43162d9c509b');\n",
              "          const dataTable =\n",
              "            await google.colab.kernel.invokeFunction('convertToInteractive',\n",
              "                                                     [key], {});\n",
              "          if (!dataTable) return;\n",
              "\n",
              "          const docLinkHtml = 'Like what you see? Visit the ' +\n",
              "            '<a target=\"_blank\" href=https://colab.research.google.com/notebooks/data_table.ipynb>data table notebook</a>'\n",
              "            + ' to learn more about interactive tables.';\n",
              "          element.innerHTML = '';\n",
              "          dataTable['output_type'] = 'display_data';\n",
              "          await google.colab.output.renderOutput(dataTable, element);\n",
              "          const docLink = document.createElement('div');\n",
              "          docLink.innerHTML = docLinkHtml;\n",
              "          element.appendChild(docLink);\n",
              "        }\n",
              "      </script>\n",
              "    </div>\n",
              "  </div>\n",
              "  "
            ]
          },
          "metadata": {},
          "execution_count": 41
        }
      ],
      "source": [
        "#ham and spam\n",
        "df[['num_character','total_words','total_sentence']].describe()"
      ]
    },
    {
      "cell_type": "code",
      "execution_count": 42,
      "id": "be3fb594",
      "metadata": {
        "execution": {
          "iopub.execute_input": "2023-03-25T21:39:54.686512Z",
          "iopub.status.busy": "2023-03-25T21:39:54.684887Z",
          "iopub.status.idle": "2023-03-25T21:39:54.711047Z",
          "shell.execute_reply": "2023-03-25T21:39:54.709488Z"
        },
        "papermill": {
          "duration": 0.046521,
          "end_time": "2023-03-25T21:39:54.713981",
          "exception": false,
          "start_time": "2023-03-25T21:39:54.667460",
          "status": "completed"
        },
        "tags": [],
        "colab": {
          "base_uri": "https://localhost:8080/",
          "height": 300
        },
        "id": "be3fb594",
        "outputId": "e1ae67e0-13be-452d-9df0-0d12dc23148e"
      },
      "outputs": [
        {
          "output_type": "execute_result",
          "data": {
            "text/plain": [
              "       num_character  total_words  total_sentence\n",
              "count            0.0          0.0             0.0\n",
              "mean             NaN          NaN             NaN\n",
              "std              NaN          NaN             NaN\n",
              "min              NaN          NaN             NaN\n",
              "25%              NaN          NaN             NaN\n",
              "50%              NaN          NaN             NaN\n",
              "75%              NaN          NaN             NaN\n",
              "max              NaN          NaN             NaN"
            ],
            "text/html": [
              "\n",
              "  <div id=\"df-e39249a2-dfd9-4ef7-9855-aa7af7193085\">\n",
              "    <div class=\"colab-df-container\">\n",
              "      <div>\n",
              "<style scoped>\n",
              "    .dataframe tbody tr th:only-of-type {\n",
              "        vertical-align: middle;\n",
              "    }\n",
              "\n",
              "    .dataframe tbody tr th {\n",
              "        vertical-align: top;\n",
              "    }\n",
              "\n",
              "    .dataframe thead th {\n",
              "        text-align: right;\n",
              "    }\n",
              "</style>\n",
              "<table border=\"1\" class=\"dataframe\">\n",
              "  <thead>\n",
              "    <tr style=\"text-align: right;\">\n",
              "      <th></th>\n",
              "      <th>num_character</th>\n",
              "      <th>total_words</th>\n",
              "      <th>total_sentence</th>\n",
              "    </tr>\n",
              "  </thead>\n",
              "  <tbody>\n",
              "    <tr>\n",
              "      <th>count</th>\n",
              "      <td>0.0</td>\n",
              "      <td>0.0</td>\n",
              "      <td>0.0</td>\n",
              "    </tr>\n",
              "    <tr>\n",
              "      <th>mean</th>\n",
              "      <td>NaN</td>\n",
              "      <td>NaN</td>\n",
              "      <td>NaN</td>\n",
              "    </tr>\n",
              "    <tr>\n",
              "      <th>std</th>\n",
              "      <td>NaN</td>\n",
              "      <td>NaN</td>\n",
              "      <td>NaN</td>\n",
              "    </tr>\n",
              "    <tr>\n",
              "      <th>min</th>\n",
              "      <td>NaN</td>\n",
              "      <td>NaN</td>\n",
              "      <td>NaN</td>\n",
              "    </tr>\n",
              "    <tr>\n",
              "      <th>25%</th>\n",
              "      <td>NaN</td>\n",
              "      <td>NaN</td>\n",
              "      <td>NaN</td>\n",
              "    </tr>\n",
              "    <tr>\n",
              "      <th>50%</th>\n",
              "      <td>NaN</td>\n",
              "      <td>NaN</td>\n",
              "      <td>NaN</td>\n",
              "    </tr>\n",
              "    <tr>\n",
              "      <th>75%</th>\n",
              "      <td>NaN</td>\n",
              "      <td>NaN</td>\n",
              "      <td>NaN</td>\n",
              "    </tr>\n",
              "    <tr>\n",
              "      <th>max</th>\n",
              "      <td>NaN</td>\n",
              "      <td>NaN</td>\n",
              "      <td>NaN</td>\n",
              "    </tr>\n",
              "  </tbody>\n",
              "</table>\n",
              "</div>\n",
              "      <button class=\"colab-df-convert\" onclick=\"convertToInteractive('df-e39249a2-dfd9-4ef7-9855-aa7af7193085')\"\n",
              "              title=\"Convert this dataframe to an interactive table.\"\n",
              "              style=\"display:none;\">\n",
              "        \n",
              "  <svg xmlns=\"http://www.w3.org/2000/svg\" height=\"24px\"viewBox=\"0 0 24 24\"\n",
              "       width=\"24px\">\n",
              "    <path d=\"M0 0h24v24H0V0z\" fill=\"none\"/>\n",
              "    <path d=\"M18.56 5.44l.94 2.06.94-2.06 2.06-.94-2.06-.94-.94-2.06-.94 2.06-2.06.94zm-11 1L8.5 8.5l.94-2.06 2.06-.94-2.06-.94L8.5 2.5l-.94 2.06-2.06.94zm10 10l.94 2.06.94-2.06 2.06-.94-2.06-.94-.94-2.06-.94 2.06-2.06.94z\"/><path d=\"M17.41 7.96l-1.37-1.37c-.4-.4-.92-.59-1.43-.59-.52 0-1.04.2-1.43.59L10.3 9.45l-7.72 7.72c-.78.78-.78 2.05 0 2.83L4 21.41c.39.39.9.59 1.41.59.51 0 1.02-.2 1.41-.59l7.78-7.78 2.81-2.81c.8-.78.8-2.07 0-2.86zM5.41 20L4 18.59l7.72-7.72 1.47 1.35L5.41 20z\"/>\n",
              "  </svg>\n",
              "      </button>\n",
              "      \n",
              "  <style>\n",
              "    .colab-df-container {\n",
              "      display:flex;\n",
              "      flex-wrap:wrap;\n",
              "      gap: 12px;\n",
              "    }\n",
              "\n",
              "    .colab-df-convert {\n",
              "      background-color: #E8F0FE;\n",
              "      border: none;\n",
              "      border-radius: 50%;\n",
              "      cursor: pointer;\n",
              "      display: none;\n",
              "      fill: #1967D2;\n",
              "      height: 32px;\n",
              "      padding: 0 0 0 0;\n",
              "      width: 32px;\n",
              "    }\n",
              "\n",
              "    .colab-df-convert:hover {\n",
              "      background-color: #E2EBFA;\n",
              "      box-shadow: 0px 1px 2px rgba(60, 64, 67, 0.3), 0px 1px 3px 1px rgba(60, 64, 67, 0.15);\n",
              "      fill: #174EA6;\n",
              "    }\n",
              "\n",
              "    [theme=dark] .colab-df-convert {\n",
              "      background-color: #3B4455;\n",
              "      fill: #D2E3FC;\n",
              "    }\n",
              "\n",
              "    [theme=dark] .colab-df-convert:hover {\n",
              "      background-color: #434B5C;\n",
              "      box-shadow: 0px 1px 3px 1px rgba(0, 0, 0, 0.15);\n",
              "      filter: drop-shadow(0px 1px 2px rgba(0, 0, 0, 0.3));\n",
              "      fill: #FFFFFF;\n",
              "    }\n",
              "  </style>\n",
              "\n",
              "      <script>\n",
              "        const buttonEl =\n",
              "          document.querySelector('#df-e39249a2-dfd9-4ef7-9855-aa7af7193085 button.colab-df-convert');\n",
              "        buttonEl.style.display =\n",
              "          google.colab.kernel.accessAllowed ? 'block' : 'none';\n",
              "\n",
              "        async function convertToInteractive(key) {\n",
              "          const element = document.querySelector('#df-e39249a2-dfd9-4ef7-9855-aa7af7193085');\n",
              "          const dataTable =\n",
              "            await google.colab.kernel.invokeFunction('convertToInteractive',\n",
              "                                                     [key], {});\n",
              "          if (!dataTable) return;\n",
              "\n",
              "          const docLinkHtml = 'Like what you see? Visit the ' +\n",
              "            '<a target=\"_blank\" href=https://colab.research.google.com/notebooks/data_table.ipynb>data table notebook</a>'\n",
              "            + ' to learn more about interactive tables.';\n",
              "          element.innerHTML = '';\n",
              "          dataTable['output_type'] = 'display_data';\n",
              "          await google.colab.output.renderOutput(dataTable, element);\n",
              "          const docLink = document.createElement('div');\n",
              "          docLink.innerHTML = docLinkHtml;\n",
              "          element.appendChild(docLink);\n",
              "        }\n",
              "      </script>\n",
              "    </div>\n",
              "  </div>\n",
              "  "
            ]
          },
          "metadata": {},
          "execution_count": 42
        }
      ],
      "source": [
        "#message containing ham\n",
        "df[df['target']==0][['num_character','total_words','total_sentence']].describe()"
      ]
    },
    {
      "cell_type": "code",
      "execution_count": 43,
      "id": "4479708e",
      "metadata": {
        "execution": {
          "iopub.execute_input": "2023-03-25T21:39:54.748980Z",
          "iopub.status.busy": "2023-03-25T21:39:54.748496Z",
          "iopub.status.idle": "2023-03-25T21:39:54.772866Z",
          "shell.execute_reply": "2023-03-25T21:39:54.771620Z"
        },
        "papermill": {
          "duration": 0.045124,
          "end_time": "2023-03-25T21:39:54.775645",
          "exception": false,
          "start_time": "2023-03-25T21:39:54.730521",
          "status": "completed"
        },
        "tags": [],
        "colab": {
          "base_uri": "https://localhost:8080/",
          "height": 300
        },
        "id": "4479708e",
        "outputId": "ec68dd3b-bac3-4254-de24-81f9c816aa98"
      },
      "outputs": [
        {
          "output_type": "execute_result",
          "data": {
            "text/plain": [
              "       num_character  total_words  total_sentence\n",
              "count            0.0          0.0             0.0\n",
              "mean             NaN          NaN             NaN\n",
              "std              NaN          NaN             NaN\n",
              "min              NaN          NaN             NaN\n",
              "25%              NaN          NaN             NaN\n",
              "50%              NaN          NaN             NaN\n",
              "75%              NaN          NaN             NaN\n",
              "max              NaN          NaN             NaN"
            ],
            "text/html": [
              "\n",
              "  <div id=\"df-23cbdc6e-f5de-476d-a7a3-5828ae715f20\">\n",
              "    <div class=\"colab-df-container\">\n",
              "      <div>\n",
              "<style scoped>\n",
              "    .dataframe tbody tr th:only-of-type {\n",
              "        vertical-align: middle;\n",
              "    }\n",
              "\n",
              "    .dataframe tbody tr th {\n",
              "        vertical-align: top;\n",
              "    }\n",
              "\n",
              "    .dataframe thead th {\n",
              "        text-align: right;\n",
              "    }\n",
              "</style>\n",
              "<table border=\"1\" class=\"dataframe\">\n",
              "  <thead>\n",
              "    <tr style=\"text-align: right;\">\n",
              "      <th></th>\n",
              "      <th>num_character</th>\n",
              "      <th>total_words</th>\n",
              "      <th>total_sentence</th>\n",
              "    </tr>\n",
              "  </thead>\n",
              "  <tbody>\n",
              "    <tr>\n",
              "      <th>count</th>\n",
              "      <td>0.0</td>\n",
              "      <td>0.0</td>\n",
              "      <td>0.0</td>\n",
              "    </tr>\n",
              "    <tr>\n",
              "      <th>mean</th>\n",
              "      <td>NaN</td>\n",
              "      <td>NaN</td>\n",
              "      <td>NaN</td>\n",
              "    </tr>\n",
              "    <tr>\n",
              "      <th>std</th>\n",
              "      <td>NaN</td>\n",
              "      <td>NaN</td>\n",
              "      <td>NaN</td>\n",
              "    </tr>\n",
              "    <tr>\n",
              "      <th>min</th>\n",
              "      <td>NaN</td>\n",
              "      <td>NaN</td>\n",
              "      <td>NaN</td>\n",
              "    </tr>\n",
              "    <tr>\n",
              "      <th>25%</th>\n",
              "      <td>NaN</td>\n",
              "      <td>NaN</td>\n",
              "      <td>NaN</td>\n",
              "    </tr>\n",
              "    <tr>\n",
              "      <th>50%</th>\n",
              "      <td>NaN</td>\n",
              "      <td>NaN</td>\n",
              "      <td>NaN</td>\n",
              "    </tr>\n",
              "    <tr>\n",
              "      <th>75%</th>\n",
              "      <td>NaN</td>\n",
              "      <td>NaN</td>\n",
              "      <td>NaN</td>\n",
              "    </tr>\n",
              "    <tr>\n",
              "      <th>max</th>\n",
              "      <td>NaN</td>\n",
              "      <td>NaN</td>\n",
              "      <td>NaN</td>\n",
              "    </tr>\n",
              "  </tbody>\n",
              "</table>\n",
              "</div>\n",
              "      <button class=\"colab-df-convert\" onclick=\"convertToInteractive('df-23cbdc6e-f5de-476d-a7a3-5828ae715f20')\"\n",
              "              title=\"Convert this dataframe to an interactive table.\"\n",
              "              style=\"display:none;\">\n",
              "        \n",
              "  <svg xmlns=\"http://www.w3.org/2000/svg\" height=\"24px\"viewBox=\"0 0 24 24\"\n",
              "       width=\"24px\">\n",
              "    <path d=\"M0 0h24v24H0V0z\" fill=\"none\"/>\n",
              "    <path d=\"M18.56 5.44l.94 2.06.94-2.06 2.06-.94-2.06-.94-.94-2.06-.94 2.06-2.06.94zm-11 1L8.5 8.5l.94-2.06 2.06-.94-2.06-.94L8.5 2.5l-.94 2.06-2.06.94zm10 10l.94 2.06.94-2.06 2.06-.94-2.06-.94-.94-2.06-.94 2.06-2.06.94z\"/><path d=\"M17.41 7.96l-1.37-1.37c-.4-.4-.92-.59-1.43-.59-.52 0-1.04.2-1.43.59L10.3 9.45l-7.72 7.72c-.78.78-.78 2.05 0 2.83L4 21.41c.39.39.9.59 1.41.59.51 0 1.02-.2 1.41-.59l7.78-7.78 2.81-2.81c.8-.78.8-2.07 0-2.86zM5.41 20L4 18.59l7.72-7.72 1.47 1.35L5.41 20z\"/>\n",
              "  </svg>\n",
              "      </button>\n",
              "      \n",
              "  <style>\n",
              "    .colab-df-container {\n",
              "      display:flex;\n",
              "      flex-wrap:wrap;\n",
              "      gap: 12px;\n",
              "    }\n",
              "\n",
              "    .colab-df-convert {\n",
              "      background-color: #E8F0FE;\n",
              "      border: none;\n",
              "      border-radius: 50%;\n",
              "      cursor: pointer;\n",
              "      display: none;\n",
              "      fill: #1967D2;\n",
              "      height: 32px;\n",
              "      padding: 0 0 0 0;\n",
              "      width: 32px;\n",
              "    }\n",
              "\n",
              "    .colab-df-convert:hover {\n",
              "      background-color: #E2EBFA;\n",
              "      box-shadow: 0px 1px 2px rgba(60, 64, 67, 0.3), 0px 1px 3px 1px rgba(60, 64, 67, 0.15);\n",
              "      fill: #174EA6;\n",
              "    }\n",
              "\n",
              "    [theme=dark] .colab-df-convert {\n",
              "      background-color: #3B4455;\n",
              "      fill: #D2E3FC;\n",
              "    }\n",
              "\n",
              "    [theme=dark] .colab-df-convert:hover {\n",
              "      background-color: #434B5C;\n",
              "      box-shadow: 0px 1px 3px 1px rgba(0, 0, 0, 0.15);\n",
              "      filter: drop-shadow(0px 1px 2px rgba(0, 0, 0, 0.3));\n",
              "      fill: #FFFFFF;\n",
              "    }\n",
              "  </style>\n",
              "\n",
              "      <script>\n",
              "        const buttonEl =\n",
              "          document.querySelector('#df-23cbdc6e-f5de-476d-a7a3-5828ae715f20 button.colab-df-convert');\n",
              "        buttonEl.style.display =\n",
              "          google.colab.kernel.accessAllowed ? 'block' : 'none';\n",
              "\n",
              "        async function convertToInteractive(key) {\n",
              "          const element = document.querySelector('#df-23cbdc6e-f5de-476d-a7a3-5828ae715f20');\n",
              "          const dataTable =\n",
              "            await google.colab.kernel.invokeFunction('convertToInteractive',\n",
              "                                                     [key], {});\n",
              "          if (!dataTable) return;\n",
              "\n",
              "          const docLinkHtml = 'Like what you see? Visit the ' +\n",
              "            '<a target=\"_blank\" href=https://colab.research.google.com/notebooks/data_table.ipynb>data table notebook</a>'\n",
              "            + ' to learn more about interactive tables.';\n",
              "          element.innerHTML = '';\n",
              "          dataTable['output_type'] = 'display_data';\n",
              "          await google.colab.output.renderOutput(dataTable, element);\n",
              "          const docLink = document.createElement('div');\n",
              "          docLink.innerHTML = docLinkHtml;\n",
              "          element.appendChild(docLink);\n",
              "        }\n",
              "      </script>\n",
              "    </div>\n",
              "  </div>\n",
              "  "
            ]
          },
          "metadata": {},
          "execution_count": 43
        }
      ],
      "source": [
        "#message conatining spam\n",
        "df[df['target']==1][['num_character','total_words','total_sentence']].describe()"
      ]
    },
    {
      "cell_type": "code",
      "execution_count": 44,
      "id": "e2b64830",
      "metadata": {
        "execution": {
          "iopub.execute_input": "2023-03-25T21:39:54.811277Z",
          "iopub.status.busy": "2023-03-25T21:39:54.810807Z",
          "iopub.status.idle": "2023-03-25T21:39:55.504400Z",
          "shell.execute_reply": "2023-03-25T21:39:55.503453Z"
        },
        "papermill": {
          "duration": 0.714822,
          "end_time": "2023-03-25T21:39:55.507135",
          "exception": false,
          "start_time": "2023-03-25T21:39:54.792313",
          "status": "completed"
        },
        "tags": [],
        "colab": {
          "base_uri": "https://localhost:8080/",
          "height": 523
        },
        "id": "e2b64830",
        "outputId": "5ef4f494-e766-4587-ec8e-48ff53ec48a2"
      },
      "outputs": [
        {
          "output_type": "execute_result",
          "data": {
            "text/plain": [
              "<seaborn.axisgrid.FacetGrid at 0x7f5201a5aa40>"
            ]
          },
          "metadata": {},
          "execution_count": 44
        },
        {
          "output_type": "display_data",
          "data": {
            "text/plain": [
              "<Figure size 500x500 with 1 Axes>"
            ],
            "image/png": "[encoded data removed]"
          },
          "metadata": {}
        }
      ],
      "source": [
        "sns.catplot(df)"
      ]
    },
    {
      "cell_type": "code",
      "execution_count": 48,
      "id": "b85b5e16",
      "metadata": {
        "execution": {
          "iopub.execute_input": "2023-03-25T21:39:56.225751Z",
          "iopub.status.busy": "2023-03-25T21:39:56.224677Z",
          "iopub.status.idle": "2023-03-25T21:40:01.636211Z",
          "shell.execute_reply": "2023-03-25T21:40:01.634819Z"
        },
        "papermill": {
          "duration": 5.435071,
          "end_time": "2023-03-25T21:40:01.640616",
          "exception": false,
          "start_time": "2023-03-25T21:39:56.205545",
          "status": "completed"
        },
        "tags": [],
        "colab": {
          "base_uri": "https://localhost:8080/",
          "height": 775
        },
        "id": "b85b5e16",
        "outputId": "d15ee198-9bdb-452a-c8da-2679f4c0e313"
      },
      "outputs": [
        {
          "output_type": "execute_result",
          "data": {
            "text/plain": [
              "<seaborn.axisgrid.PairGrid at 0x7f5201693dc0>"
            ]
          },
          "metadata": {},
          "execution_count": 48
        },
        {
          "output_type": "display_data",
          "data": {
            "text/plain": [
              "<Figure size 838.125x750 with 12 Axes>"
            ],
            "image/png": "[encoded data removed]"
          },
          "metadata": {}
        }
      ],
      "source": [
        "#scatter plot matrix\n",
        "sns.pairplot(df,hue='target')"
      ]
    },
    {
      "cell_type": "code",
      "execution_count": 54,
      "id": "c3d9f0d7",
      "metadata": {
        "execution": {
          "iopub.execute_input": "2023-03-25T21:40:01.684766Z",
          "iopub.status.busy": "2023-03-25T21:40:01.683406Z",
          "iopub.status.idle": "2023-03-25T21:40:02.055304Z",
          "shell.execute_reply": "2023-03-25T21:40:02.053857Z"
        },
        "papermill": {
          "duration": 0.397959,
          "end_time": "2023-03-25T21:40:02.058670",
          "exception": false,
          "start_time": "2023-03-25T21:40:01.660711",
          "status": "completed"
        },
        "tags": [],
        "colab": {
          "base_uri": "https://localhost:8080/",
          "height": 507
        },
        "id": "c3d9f0d7",
        "outputId": "c35faeff-4130-4c94-e3e4-d336c27f2363"
      },
      "outputs": [
        {
          "output_type": "stream",
          "name": "stderr",
          "text": [
            "<ipython-input-54-fcff8a3647d3>:1: FutureWarning: The default value of numeric_only in DataFrame.corr is deprecated. In a future version, it will default to False. Select only valid columns or specify the value of numeric_only to silence this warning.\n",
            "  sns.heatmap(df.corr(),annot=True, cmap='Greens')\n"
          ]
        },
        {
          "output_type": "execute_result",
          "data": {
            "text/plain": [
              "<Axes: >"
            ]
          },
          "metadata": {},
          "execution_count": 54
        },
        {
          "output_type": "display_data",
          "data": {
            "text/plain": [
              "<Figure size 640x480 with 2 Axes>"
            ],
            "image/png": "[encoded data removed]"
          },
          "metadata": {}
        }
      ],
      "source": [
        "sns.heatmap(df.corr(),annot=True, cmap='Greens')"
      ]
    },
    {
      "cell_type": "markdown",
      "id": "b5b8d471",
      "metadata": {
        "papermill": {
          "duration": 0.02005,
          "end_time": "2023-03-25T21:40:02.100182",
          "exception": false,
          "start_time": "2023-03-25T21:40:02.080132",
          "status": "completed"
        },
        "tags": [],
        "id": "b5b8d471"
      },
      "source": [
        "# **Steps in Data preprocessing**\n",
        "* convert to lower case\n",
        "* tokenization\n",
        "* remove special character\n",
        "* remove punctuations"
      ]
    },
    {
      "cell_type": "code",
      "execution_count": 64,
      "id": "a6180773",
      "metadata": {
        "execution": {
          "iopub.execute_input": "2023-03-25T21:40:02.144111Z",
          "iopub.status.busy": "2023-03-25T21:40:02.142915Z",
          "iopub.status.idle": "2023-03-25T21:40:02.151538Z",
          "shell.execute_reply": "2023-03-25T21:40:02.150665Z"
        },
        "papermill": {
          "duration": 0.033585,
          "end_time": "2023-03-25T21:40:02.153988",
          "exception": false,
          "start_time": "2023-03-25T21:40:02.120403",
          "status": "completed"
        },
        "tags": [],
        "colab": {
          "base_uri": "https://localhost:8080/"
        },
        "id": "a6180773",
        "outputId": "a453f29c-177e-4e8b-d851-8165c86fb5ef"
      },
      "outputs": [
        {
          "output_type": "stream",
          "name": "stderr",
          "text": [
            "[nltk_data] Downloading package stopwords to /root/nltk_data...\n",
            "[nltk_data]   Unzipping corpora/stopwords.zip.\n"
          ]
        }
      ],
      "source": [
        "from nltk.corpus import stopwords\n",
        "nltk.download('stopwords')\n",
        "import string\n",
        "from nltk.stem.porter import PorterStemmer\n",
        "ps= PorterStemmer()\n",
        "\n",
        "\n",
        "def data_processing(text):\n",
        "    text = text.lower()\n",
        "    text = nltk.word_tokenize(text)\n",
        "    \n",
        "    y=[]\n",
        "    for i in text:\n",
        "        if i.isalnum():\n",
        "            y.append(i)\n",
        "    text = y[:]\n",
        "    y.clear()\n",
        "    \n",
        "    for i in text:\n",
        "        if i not in stopwords.words('english') and i not in string.punctuation:\n",
        "            y.append(i)\n",
        "    text=y[:]\n",
        "    y.clear()\n",
        "    \n",
        "    for i in text:\n",
        "        y.append(ps.stem(i))\n",
        "    return \" \".join(y)"
      ]
    },
    {
      "cell_type": "code",
      "execution_count": 65,
      "id": "b99cdeb9",
      "metadata": {
        "execution": {
          "iopub.execute_input": "2023-03-25T21:40:02.237628Z",
          "iopub.status.busy": "2023-03-25T21:40:02.236952Z",
          "iopub.status.idle": "2023-03-25T21:40:16.433794Z",
          "shell.execute_reply": "2023-03-25T21:40:16.432306Z"
        },
        "papermill": {
          "duration": 14.221473,
          "end_time": "2023-03-25T21:40:16.436855",
          "exception": false,
          "start_time": "2023-03-25T21:40:02.215382",
          "status": "completed"
        },
        "tags": [],
        "id": "b99cdeb9"
      },
      "outputs": [],
      "source": [
        "df['new_text']=df['text'].apply(data_processing)"
      ]
    },
    {
      "cell_type": "code",
      "execution_count": 57,
      "id": "be98d0b4",
      "metadata": {
        "execution": {
          "iopub.execute_input": "2023-03-25T21:40:16.480017Z",
          "iopub.status.busy": "2023-03-25T21:40:16.479536Z",
          "iopub.status.idle": "2023-03-25T21:40:16.493254Z",
          "shell.execute_reply": "2023-03-25T21:40:16.492153Z"
        },
        "papermill": {
          "duration": 0.037954,
          "end_time": "2023-03-25T21:40:16.495811",
          "exception": false,
          "start_time": "2023-03-25T21:40:16.457857",
          "status": "completed"
        },
        "tags": [],
        "colab": {
          "base_uri": "https://localhost:8080/",
          "height": 337
        },
        "id": "be98d0b4",
        "outputId": "2ff8b3c8-b65e-4dc7-9bda-9572beec8369"
      },
      "outputs": [
        {
          "output_type": "execute_result",
          "data": {
            "text/plain": [
              "  target                                               text Unnamed: 2  \\\n",
              "0    ham  Go until jurong point, crazy.. Available only ...        NaN   \n",
              "1    ham                      Ok lar... Joking wif u oni...        NaN   \n",
              "2   spam  Free entry in 2 a wkly comp to win FA Cup fina...        NaN   \n",
              "3    ham  U dun say so early hor... U c already then say...        NaN   \n",
              "4    ham  Nah I don't think he goes to usf, he lives aro...        NaN   \n",
              "\n",
              "  Unnamed: 3 Unnamed: 4  num_character  total_words  total_sentence  \n",
              "0        NaN        NaN            111           24               2  \n",
              "1        NaN        NaN             29            8               2  \n",
              "2        NaN        NaN            155           37               2  \n",
              "3        NaN        NaN             49           13               1  \n",
              "4        NaN        NaN             61           15               1  "
            ],
            "text/html": [
              "\n",
              "  <div id=\"df-8576ad6b-02ba-4ef8-905c-ab395b73a73b\">\n",
              "    <div class=\"colab-df-container\">\n",
              "      <div>\n",
              "<style scoped>\n",
              "    .dataframe tbody tr th:only-of-type {\n",
              "        vertical-align: middle;\n",
              "    }\n",
              "\n",
              "    .dataframe tbody tr th {\n",
              "        vertical-align: top;\n",
              "    }\n",
              "\n",
              "    .dataframe thead th {\n",
              "        text-align: right;\n",
              "    }\n",
              "</style>\n",
              "<table border=\"1\" class=\"dataframe\">\n",
              "  <thead>\n",
              "    <tr style=\"text-align: right;\">\n",
              "      <th></th>\n",
              "      <th>target</th>\n",
              "      <th>text</th>\n",
              "      <th>Unnamed: 2</th>\n",
              "      <th>Unnamed: 3</th>\n",
              "      <th>Unnamed: 4</th>\n",
              "      <th>num_character</th>\n",
              "      <th>total_words</th>\n",
              "      <th>total_sentence</th>\n",
              "    </tr>\n",
              "  </thead>\n",
              "  <tbody>\n",
              "    <tr>\n",
              "      <th>0</th>\n",
              "      <td>ham</td>\n",
              "      <td>Go until jurong point, crazy.. Available only ...</td>\n",
              "      <td>NaN</td>\n",
              "      <td>NaN</td>\n",
              "      <td>NaN</td>\n",
              "      <td>111</td>\n",
              "      <td>24</td>\n",
              "      <td>2</td>\n",
              "    </tr>\n",
              "    <tr>\n",
              "      <th>1</th>\n",
              "      <td>ham</td>\n",
              "      <td>Ok lar... Joking wif u oni...</td>\n",
              "      <td>NaN</td>\n",
              "      <td>NaN</td>\n",
              "      <td>NaN</td>\n",
              "      <td>29</td>\n",
              "      <td>8</td>\n",
              "      <td>2</td>\n",
              "    </tr>\n",
              "    <tr>\n",
              "      <th>2</th>\n",
              "      <td>spam</td>\n",
              "      <td>Free entry in 2 a wkly comp to win FA Cup fina...</td>\n",
              "      <td>NaN</td>\n",
              "      <td>NaN</td>\n",
              "      <td>NaN</td>\n",
              "      <td>155</td>\n",
              "      <td>37</td>\n",
              "      <td>2</td>\n",
              "    </tr>\n",
              "    <tr>\n",
              "      <th>3</th>\n",
              "      <td>ham</td>\n",
              "      <td>U dun say so early hor... U c already then say...</td>\n",
              "      <td>NaN</td>\n",
              "      <td>NaN</td>\n",
              "      <td>NaN</td>\n",
              "      <td>49</td>\n",
              "      <td>13</td>\n",
              "      <td>1</td>\n",
              "    </tr>\n",
              "    <tr>\n",
              "      <th>4</th>\n",
              "      <td>ham</td>\n",
              "      <td>Nah I don't think he goes to usf, he lives aro...</td>\n",
              "      <td>NaN</td>\n",
              "      <td>NaN</td>\n",
              "      <td>NaN</td>\n",
              "      <td>61</td>\n",
              "      <td>15</td>\n",
              "      <td>1</td>\n",
              "    </tr>\n",
              "  </tbody>\n",
              "</table>\n",
              "</div>\n",
              "      <button class=\"colab-df-convert\" onclick=\"convertToInteractive('df-8576ad6b-02ba-4ef8-905c-ab395b73a73b')\"\n",
              "              title=\"Convert this dataframe to an interactive table.\"\n",
              "              style=\"display:none;\">\n",
              "        \n",
              "  <svg xmlns=\"http://www.w3.org/2000/svg\" height=\"24px\"viewBox=\"0 0 24 24\"\n",
              "       width=\"24px\">\n",
              "    <path d=\"M0 0h24v24H0V0z\" fill=\"none\"/>\n",
              "    <path d=\"M18.56 5.44l.94 2.06.94-2.06 2.06-.94-2.06-.94-.94-2.06-.94 2.06-2.06.94zm-11 1L8.5 8.5l.94-2.06 2.06-.94-2.06-.94L8.5 2.5l-.94 2.06-2.06.94zm10 10l.94 2.06.94-2.06 2.06-.94-2.06-.94-.94-2.06-.94 2.06-2.06.94z\"/><path d=\"M17.41 7.96l-1.37-1.37c-.4-.4-.92-.59-1.43-.59-.52 0-1.04.2-1.43.59L10.3 9.45l-7.72 7.72c-.78.78-.78 2.05 0 2.83L4 21.41c.39.39.9.59 1.41.59.51 0 1.02-.2 1.41-.59l7.78-7.78 2.81-2.81c.8-.78.8-2.07 0-2.86zM5.41 20L4 18.59l7.72-7.72 1.47 1.35L5.41 20z\"/>\n",
              "  </svg>\n",
              "      </button>\n",
              "      \n",
              "  <style>\n",
              "    .colab-df-container {\n",
              "      display:flex;\n",
              "      flex-wrap:wrap;\n",
              "      gap: 12px;\n",
              "    }\n",
              "\n",
              "    .colab-df-convert {\n",
              "      background-color: #E8F0FE;\n",
              "      border: none;\n",
              "      border-radius: 50%;\n",
              "      cursor: pointer;\n",
              "      display: none;\n",
              "      fill: #1967D2;\n",
              "      height: 32px;\n",
              "      padding: 0 0 0 0;\n",
              "      width: 32px;\n",
              "    }\n",
              "\n",
              "    .colab-df-convert:hover {\n",
              "      background-color: #E2EBFA;\n",
              "      box-shadow: 0px 1px 2px rgba(60, 64, 67, 0.3), 0px 1px 3px 1px rgba(60, 64, 67, 0.15);\n",
              "      fill: #174EA6;\n",
              "    }\n",
              "\n",
              "    [theme=dark] .colab-df-convert {\n",
              "      background-color: #3B4455;\n",
              "      fill: #D2E3FC;\n",
              "    }\n",
              "\n",
              "    [theme=dark] .colab-df-convert:hover {\n",
              "      background-color: #434B5C;\n",
              "      box-shadow: 0px 1px 3px 1px rgba(0, 0, 0, 0.15);\n",
              "      filter: drop-shadow(0px 1px 2px rgba(0, 0, 0, 0.3));\n",
              "      fill: #FFFFFF;\n",
              "    }\n",
              "  </style>\n",
              "\n",
              "      <script>\n",
              "        const buttonEl =\n",
              "          document.querySelector('#df-8576ad6b-02ba-4ef8-905c-ab395b73a73b button.colab-df-convert');\n",
              "        buttonEl.style.display =\n",
              "          google.colab.kernel.accessAllowed ? 'block' : 'none';\n",
              "\n",
              "        async function convertToInteractive(key) {\n",
              "          const element = document.querySelector('#df-8576ad6b-02ba-4ef8-905c-ab395b73a73b');\n",
              "          const dataTable =\n",
              "            await google.colab.kernel.invokeFunction('convertToInteractive',\n",
              "                                                     [key], {});\n",
              "          if (!dataTable) return;\n",
              "\n",
              "          const docLinkHtml = 'Like what you see? Visit the ' +\n",
              "            '<a target=\"_blank\" href=https://colab.research.google.com/notebooks/data_table.ipynb>data table notebook</a>'\n",
              "            + ' to learn more about interactive tables.';\n",
              "          element.innerHTML = '';\n",
              "          dataTable['output_type'] = 'display_data';\n",
              "          await google.colab.output.renderOutput(dataTable, element);\n",
              "          const docLink = document.createElement('div');\n",
              "          docLink.innerHTML = docLinkHtml;\n",
              "          element.appendChild(docLink);\n",
              "        }\n",
              "      </script>\n",
              "    </div>\n",
              "  </div>\n",
              "  "
            ]
          },
          "metadata": {},
          "execution_count": 57
        }
      ],
      "source": [
        "df.head()"
      ]
    },
    {
      "cell_type": "code",
      "execution_count": null,
      "id": "2397a210",
      "metadata": {
        "execution": {
          "iopub.execute_input": "2023-03-25T21:40:21.742245Z",
          "iopub.status.busy": "2023-03-25T21:40:21.741791Z",
          "iopub.status.idle": "2023-03-25T21:40:22.217074Z",
          "shell.execute_reply": "2023-03-25T21:40:22.215829Z"
        },
        "papermill": {
          "duration": 0.50205,
          "end_time": "2023-03-25T21:40:22.220190",
          "exception": false,
          "start_time": "2023-03-25T21:40:21.718140",
          "status": "completed"
        },
        "tags": [],
        "id": "2397a210",
        "outputId": "18999b89-4bfb-4755-a1d4-75966caabcd3"
      },
      "outputs": [
        {
          "data": {
            "text/plain": [
              "<function matplotlib.pyplot.show(close=None, block=None)>"
            ]
          },
          "execution_count": 37,
          "metadata": {},
          "output_type": "execute_result"
        },
        {
          "data": {
            "image/png": "[encoded data removed]",
            "text/plain": [
              "<Figure size 640x480 with 1 Axes>"
            ]
          },
          "metadata": {},
          "output_type": "display_data"
        }
      ],
      "source": [
        "sns.barplot(x=pd.DataFrame(Counter(list2).most_common(30))[0],y=pd.DataFrame(Counter(list2).most_common(30))[1])\n",
        "plt.xticks(rotation='vertical')\n",
        "plt.show"
      ]
    },
    {
      "cell_type": "code",
      "execution_count": null,
      "id": "5aeb6f23",
      "metadata": {
        "execution": {
          "iopub.execute_input": "2023-03-25T21:40:22.268036Z",
          "iopub.status.busy": "2023-03-25T21:40:22.267633Z",
          "iopub.status.idle": "2023-03-25T21:40:22.739080Z",
          "shell.execute_reply": "2023-03-25T21:40:22.737348Z"
        },
        "papermill": {
          "duration": 0.498962,
          "end_time": "2023-03-25T21:40:22.742000",
          "exception": false,
          "start_time": "2023-03-25T21:40:22.243038",
          "status": "completed"
        },
        "tags": [],
        "id": "5aeb6f23",
        "outputId": "234eaf9f-55fd-44e5-b83a-d3cd8504f505"
      },
      "outputs": [
        {
          "data": {
            "text/plain": [
              "<function matplotlib.pyplot.show(close=None, block=None)>"
            ]
          },
          "execution_count": 38,
          "metadata": {},
          "output_type": "execute_result"
        },
        {
          "data": {
            "image/png": "[encoded data removed]",
            "text/plain": [
              "<Figure size 640x480 with 1 Axes>"
            ]
          },
          "metadata": {},
          "output_type": "display_data"
        }
      ],
      "source": [
        "sns.barplot(x=pd.DataFrame(Counter(list1).most_common(30))[0],y=pd.DataFrame(Counter(list1).most_common(30))[1])\n",
        "plt.xticks(rotation='vertical')\n",
        "plt.show"
      ]
    },
    {
      "cell_type": "markdown",
      "id": "c811fb54",
      "metadata": {
        "papermill": {
          "duration": 0.02257,
          "end_time": "2023-03-25T21:40:22.787755",
          "exception": false,
          "start_time": "2023-03-25T21:40:22.765185",
          "status": "completed"
        },
        "tags": [],
        "id": "c811fb54"
      },
      "source": [
        "# **Model Building**"
      ]
    },
    {
      "cell_type": "code",
      "execution_count": 60,
      "id": "4ecb1a95",
      "metadata": {
        "execution": {
          "iopub.execute_input": "2023-03-25T21:40:22.838256Z",
          "iopub.status.busy": "2023-03-25T21:40:22.837838Z",
          "iopub.status.idle": "2023-03-25T21:40:22.843726Z",
          "shell.execute_reply": "2023-03-25T21:40:22.842286Z"
        },
        "papermill": {
          "duration": 0.034514,
          "end_time": "2023-03-25T21:40:22.846404",
          "exception": false,
          "start_time": "2023-03-25T21:40:22.811890",
          "status": "completed"
        },
        "tags": [],
        "id": "4ecb1a95"
      },
      "outputs": [],
      "source": [
        "#import CountVectorizer\n",
        "from sklearn.feature_extraction.text import CountVectorizer,TfidfVectorizer\n",
        "cv = CountVectorizer()\n",
        "tfid = TfidfVectorizer(max_features=3000)"
      ]
    },
    {
      "cell_type": "code",
      "execution_count": 66,
      "id": "270590c7",
      "metadata": {
        "execution": {
          "iopub.execute_input": "2023-03-25T21:40:22.894896Z",
          "iopub.status.busy": "2023-03-25T21:40:22.894086Z",
          "iopub.status.idle": "2023-03-25T21:40:23.064426Z",
          "shell.execute_reply": "2023-03-25T21:40:23.062973Z"
        },
        "papermill": {
          "duration": 0.197436,
          "end_time": "2023-03-25T21:40:23.067153",
          "exception": false,
          "start_time": "2023-03-25T21:40:22.869717",
          "status": "completed"
        },
        "tags": [],
        "colab": {
          "base_uri": "https://localhost:8080/"
        },
        "id": "270590c7",
        "outputId": "60c27fb5-5706-4ebb-c2c2-12812e9fc8f0"
      },
      "outputs": [
        {
          "output_type": "execute_result",
          "data": {
            "text/plain": [
              "(5572, 6708)"
            ]
          },
          "metadata": {},
          "execution_count": 66
        }
      ],
      "source": [
        "x= cv.fit_transform(df['new_text']).toarray()\n",
        "x.shape"
      ]
    },
    {
      "cell_type": "code",
      "execution_count": 67,
      "id": "1bfb32e6",
      "metadata": {
        "execution": {
          "iopub.execute_input": "2023-03-25T21:40:23.115924Z",
          "iopub.status.busy": "2023-03-25T21:40:23.115508Z",
          "iopub.status.idle": "2023-03-25T21:40:23.120652Z",
          "shell.execute_reply": "2023-03-25T21:40:23.119296Z"
        },
        "papermill": {
          "duration": 0.032081,
          "end_time": "2023-03-25T21:40:23.122948",
          "exception": false,
          "start_time": "2023-03-25T21:40:23.090867",
          "status": "completed"
        },
        "tags": [],
        "id": "1bfb32e6"
      },
      "outputs": [],
      "source": [
        "y =df['target'].values"
      ]
    },
    {
      "cell_type": "code",
      "execution_count": 68,
      "id": "ef10462a",
      "metadata": {
        "execution": {
          "iopub.execute_input": "2023-03-25T21:40:23.172815Z",
          "iopub.status.busy": "2023-03-25T21:40:23.172408Z",
          "iopub.status.idle": "2023-03-25T21:40:23.177415Z",
          "shell.execute_reply": "2023-03-25T21:40:23.176193Z"
        },
        "papermill": {
          "duration": 0.032885,
          "end_time": "2023-03-25T21:40:23.180022",
          "exception": false,
          "start_time": "2023-03-25T21:40:23.147137",
          "status": "completed"
        },
        "tags": [],
        "id": "ef10462a"
      },
      "outputs": [],
      "source": [
        "from sklearn.model_selection import train_test_split"
      ]
    },
    {
      "cell_type": "code",
      "execution_count": 69,
      "id": "5095d6b9",
      "metadata": {
        "execution": {
          "iopub.execute_input": "2023-03-25T21:40:23.229192Z",
          "iopub.status.busy": "2023-03-25T21:40:23.228334Z",
          "iopub.status.idle": "2023-03-25T21:40:23.433827Z",
          "shell.execute_reply": "2023-03-25T21:40:23.432419Z"
        },
        "papermill": {
          "duration": 0.23325,
          "end_time": "2023-03-25T21:40:23.436869",
          "exception": false,
          "start_time": "2023-03-25T21:40:23.203619",
          "status": "completed"
        },
        "tags": [],
        "id": "5095d6b9"
      },
      "outputs": [],
      "source": [
        "x_train,x_test,y_train,y_test=train_test_split(x,y,test_size=0.2)"
      ]
    },
    {
      "cell_type": "code",
      "execution_count": 70,
      "id": "f2658699",
      "metadata": {
        "execution": {
          "iopub.execute_input": "2023-03-25T21:40:23.484928Z",
          "iopub.status.busy": "2023-03-25T21:40:23.484438Z",
          "iopub.status.idle": "2023-03-25T21:40:23.492791Z",
          "shell.execute_reply": "2023-03-25T21:40:23.491335Z"
        },
        "papermill": {
          "duration": 0.035361,
          "end_time": "2023-03-25T21:40:23.495274",
          "exception": false,
          "start_time": "2023-03-25T21:40:23.459913",
          "status": "completed"
        },
        "tags": [],
        "colab": {
          "base_uri": "https://localhost:8080/"
        },
        "id": "f2658699",
        "outputId": "905e58b1-1b6b-48a6-acf2-6507c7ec8be7"
      },
      "outputs": [
        {
          "output_type": "execute_result",
          "data": {
            "text/plain": [
              "(4457, 6708)"
            ]
          },
          "metadata": {},
          "execution_count": 70
        }
      ],
      "source": [
        "x_train.shape"
      ]
    },
    {
      "cell_type": "code",
      "execution_count": 71,
      "id": "3867895b",
      "metadata": {
        "execution": {
          "iopub.execute_input": "2023-03-25T21:40:23.546200Z",
          "iopub.status.busy": "2023-03-25T21:40:23.544332Z",
          "iopub.status.idle": "2023-03-25T21:40:23.553518Z",
          "shell.execute_reply": "2023-03-25T21:40:23.552245Z"
        },
        "papermill": {
          "duration": 0.037726,
          "end_time": "2023-03-25T21:40:23.556276",
          "exception": false,
          "start_time": "2023-03-25T21:40:23.518550",
          "status": "completed"
        },
        "tags": [],
        "colab": {
          "base_uri": "https://localhost:8080/"
        },
        "id": "3867895b",
        "outputId": "33bac525-6435-4d12-91a4-edf918d2e8af"
      },
      "outputs": [
        {
          "output_type": "execute_result",
          "data": {
            "text/plain": [
              "(1115, 6708)"
            ]
          },
          "metadata": {},
          "execution_count": 71
        }
      ],
      "source": [
        "x_test.shape"
      ]
    },
    {
      "cell_type": "markdown",
      "source": [
        "## Naive Bayes"
      ],
      "metadata": {
        "id": "bgH1Ky-NMJCt"
      },
      "id": "bgH1Ky-NMJCt"
    },
    {
      "cell_type": "code",
      "execution_count": 82,
      "id": "bd681ff7",
      "metadata": {
        "execution": {
          "iopub.execute_input": "2023-03-25T21:40:23.605862Z",
          "iopub.status.busy": "2023-03-25T21:40:23.604418Z",
          "iopub.status.idle": "2023-03-25T21:40:23.621010Z",
          "shell.execute_reply": "2023-03-25T21:40:23.619783Z"
        },
        "papermill": {
          "duration": 0.04443,
          "end_time": "2023-03-25T21:40:23.624105",
          "exception": false,
          "start_time": "2023-03-25T21:40:23.579675",
          "status": "completed"
        },
        "tags": [],
        "id": "bd681ff7"
      },
      "outputs": [],
      "source": [
        "from sklearn.naive_bayes import GaussianNB,MultinomialNB,BernoulliNB\n",
        "from sklearn.metrics import accuracy_score,confusion_matrix,precision_score\n",
        "gnb=GaussianNB()\n",
        "mlnb=MultinomialNB()"
      ]
    },
    {
      "cell_type": "markdown",
      "source": [
        "# Gaussian naive bayes"
      ],
      "metadata": {
        "id": "GPNYsFNeMOLM"
      },
      "id": "GPNYsFNeMOLM"
    },
    {
      "cell_type": "code",
      "execution_count": 85,
      "id": "ff0c7119",
      "metadata": {
        "execution": {
          "iopub.execute_input": "2023-03-25T21:40:23.673782Z",
          "iopub.status.busy": "2023-03-25T21:40:23.673332Z",
          "iopub.status.idle": "2023-03-25T21:40:24.342489Z",
          "shell.execute_reply": "2023-03-25T21:40:24.340627Z"
        },
        "papermill": {
          "duration": 0.697109,
          "end_time": "2023-03-25T21:40:24.345389",
          "exception": false,
          "start_time": "2023-03-25T21:40:23.648280",
          "status": "completed"
        },
        "tags": [],
        "colab": {
          "base_uri": "https://localhost:8080/"
        },
        "id": "ff0c7119",
        "outputId": "45954dee-4de6-4568-f536-121dd34c9e03"
      },
      "outputs": [
        {
          "output_type": "stream",
          "name": "stdout",
          "text": [
            "gnb_accuracy_score: 0.8681614349775785\n",
            "gnb_confusion_matrix: [[844 131]\n",
            " [ 16 124]]\n"
          ]
        }
      ],
      "source": [
        "gnb.fit(x_train,y_train)\n",
        "prediction_1 = gnb.predict(x_test)\n",
        "\n",
        "a1=accuracy_score(y_test,prediction_1)\n",
        "\n",
        "c1=confusion_matrix(y_test,prediction_1)\n",
        "\n",
        "\n",
        "\n",
        "print(\"gnb_accuracy_score:\",a1)\n",
        "print(\"gnb_confusion_matrix:\",c1)\n",
        "\n"
      ]
    },
    {
      "cell_type": "markdown",
      "source": [
        "# Multinomial Naive Bayes"
      ],
      "metadata": {
        "id": "4crzbChsMaPf"
      },
      "id": "4crzbChsMaPf"
    },
    {
      "cell_type": "code",
      "execution_count": 86,
      "id": "3d3858c7",
      "metadata": {
        "execution": {
          "iopub.execute_input": "2023-03-25T21:40:24.394679Z",
          "iopub.status.busy": "2023-03-25T21:40:24.394168Z",
          "iopub.status.idle": "2023-03-25T21:40:24.764661Z",
          "shell.execute_reply": "2023-03-25T21:40:24.762873Z"
        },
        "papermill": {
          "duration": 0.400566,
          "end_time": "2023-03-25T21:40:24.769640",
          "exception": false,
          "start_time": "2023-03-25T21:40:24.369074",
          "status": "completed"
        },
        "tags": [],
        "colab": {
          "base_uri": "https://localhost:8080/"
        },
        "id": "3d3858c7",
        "outputId": "48330f7e-240e-4ea3-c194-9f8a18a64529"
      },
      "outputs": [
        {
          "output_type": "stream",
          "name": "stdout",
          "text": [
            "mlnb_accuracy_score: 0.97847533632287\n",
            "mlnb_confusion_matrix: [[974   1]\n",
            " [ 23 117]]\n"
          ]
        }
      ],
      "source": [
        "mlnb.fit(x_train,y_train)\n",
        "prediction_2 = mlnb.predict(x_test)\n",
        "#accuracy score\n",
        "a1=accuracy_score(y_test,prediction_2)\n",
        "#confusion matrix\n",
        "c1=confusion_matrix(y_test,prediction_2)\n",
        "\n",
        "\n",
        "print(\"mlnb_accuracy_score:\",a1)\n",
        "print(\"mlnb_confusion_matrix:\",c1)"
      ]
    },
    {
      "cell_type": "code",
      "execution_count": 78,
      "id": "a36f4465",
      "metadata": {
        "execution": {
          "iopub.execute_input": "2023-03-25T21:40:25.578715Z",
          "iopub.status.busy": "2023-03-25T21:40:25.578015Z",
          "iopub.status.idle": "2023-03-25T21:40:25.775517Z",
          "shell.execute_reply": "2023-03-25T21:40:25.774075Z"
        },
        "papermill": {
          "duration": 0.249488,
          "end_time": "2023-03-25T21:40:25.778795",
          "exception": false,
          "start_time": "2023-03-25T21:40:25.529307",
          "status": "completed"
        },
        "tags": [],
        "id": "a36f4465"
      },
      "outputs": [],
      "source": [
        "#check precision using tfid\n",
        "x= tfid.fit_transform(df['new_text']).toarray()"
      ]
    },
    {
      "cell_type": "code",
      "execution_count": 79,
      "id": "70cc37ba",
      "metadata": {
        "execution": {
          "iopub.execute_input": "2023-03-25T21:40:25.830465Z",
          "iopub.status.busy": "2023-03-25T21:40:25.829723Z",
          "iopub.status.idle": "2023-03-25T21:40:25.894197Z",
          "shell.execute_reply": "2023-03-25T21:40:25.892817Z"
        },
        "papermill": {
          "duration": 0.094229,
          "end_time": "2023-03-25T21:40:25.897191",
          "exception": false,
          "start_time": "2023-03-25T21:40:25.802962",
          "status": "completed"
        },
        "tags": [],
        "id": "70cc37ba"
      },
      "outputs": [],
      "source": [
        "x_train,x_test,y_train,y_test=train_test_split(x,y,test_size=0.2)"
      ]
    },
    {
      "cell_type": "code",
      "execution_count": 87,
      "id": "1eff8ec8",
      "metadata": {
        "execution": {
          "iopub.execute_input": "2023-03-25T21:40:25.948416Z",
          "iopub.status.busy": "2023-03-25T21:40:25.947167Z",
          "iopub.status.idle": "2023-03-25T21:40:26.194422Z",
          "shell.execute_reply": "2023-03-25T21:40:26.192512Z"
        },
        "papermill": {
          "duration": 0.275923,
          "end_time": "2023-03-25T21:40:26.197252",
          "exception": false,
          "start_time": "2023-03-25T21:40:25.921329",
          "status": "completed"
        },
        "tags": [],
        "colab": {
          "base_uri": "https://localhost:8080/"
        },
        "id": "1eff8ec8",
        "outputId": "1bb59a8c-6df2-4603-8fec-5afcb437f30f"
      },
      "outputs": [
        {
          "output_type": "stream",
          "name": "stdout",
          "text": [
            "gnb_accuracy_score: 0.8681614349775785\n",
            "gnb_confusion_matrix: [[844 131]\n",
            " [ 16 124]]\n"
          ]
        }
      ],
      "source": [
        "#Gaussian naive_bayes\n",
        "gnb.fit(x_train,y_train)\n",
        "prediction_1 = gnb.predict(x_test)\n",
        "#accuracy score\n",
        "a1=accuracy_score(y_test,prediction_1)\n",
        "#confusion matrix\n",
        "c1=confusion_matrix(y_test,prediction_1)\n",
        "\n",
        "print(\"gnb_accuracy_score:\",a1)\n",
        "print(\"gnb_confusion_matrix:\",c1)\n",
        "\n"
      ]
    },
    {
      "cell_type": "code",
      "execution_count": 88,
      "id": "7f8218e5",
      "metadata": {
        "execution": {
          "iopub.execute_input": "2023-03-25T21:40:26.247654Z",
          "iopub.status.busy": "2023-03-25T21:40:26.247157Z",
          "iopub.status.idle": "2023-03-25T21:40:26.308888Z",
          "shell.execute_reply": "2023-03-25T21:40:26.307187Z"
        },
        "papermill": {
          "duration": 0.091666,
          "end_time": "2023-03-25T21:40:26.313130",
          "exception": false,
          "start_time": "2023-03-25T21:40:26.221464",
          "status": "completed"
        },
        "tags": [],
        "colab": {
          "base_uri": "https://localhost:8080/"
        },
        "id": "7f8218e5",
        "outputId": "cee3f320-7217-489e-9b23-20e8eb3355d4"
      },
      "outputs": [
        {
          "output_type": "stream",
          "name": "stdout",
          "text": [
            "mlnb_accuracy_score: 0.97847533632287\n",
            "mlnb_confusion_matrix: [[974   1]\n",
            " [ 23 117]]\n"
          ]
        }
      ],
      "source": [
        "#multinomial naive_bayes\n",
        "mlnb.fit(x_train,y_train)\n",
        "prediction_2 = mlnb.predict(x_test)\n",
        "#accuracy score\n",
        "a1=accuracy_score(y_test,prediction_2)\n",
        "#confusion matrix\n",
        "c1=confusion_matrix(y_test,prediction_2)\n",
        "\n",
        "print(\"mlnb_accuracy_score:\",a1)\n",
        "print(\"mlnb_confusion_matrix:\",c1)"
      ]
    },
    {
      "cell_type": "markdown",
      "id": "415c04d7",
      "metadata": {
        "papermill": {
          "duration": 0.051994,
          "end_time": "2023-03-25T21:40:26.720510",
          "exception": false,
          "start_time": "2023-03-25T21:40:26.668516",
          "status": "completed"
        },
        "tags": [],
        "id": "415c04d7"
      },
      "source": [
        "After using tfid, accuracy score for multinomial Naive Bayes is 97.85%. Hence we choose multinomial NB"
      ]
    }
  ],
  "metadata": {
    "kernelspec": {
      "display_name": "Python 3",
      "language": "python",
      "name": "python3"
    },
    "language_info": {
      "codemirror_mode": {
        "name": "ipython",
        "version": 3
      },
      "file_extension": ".py",
      "mimetype": "text/x-python",
      "name": "python",
      "nbconvert_exporter": "python",
      "pygments_lexer": "ipython3",
      "version": "3.7.12"
    },
    "papermill": {
      "default_parameters": {},
      "duration": 49.60453,
      "end_time": "2023-03-25T21:40:27.843605",
      "environment_variables": {},
      "exception": null,
      "input_path": "__notebook__.ipynb",
      "output_path": "__notebook__.ipynb",
      "parameters": {},
      "start_time": "2023-03-25T21:39:38.239075",
      "version": "2.4.0"
    },
    "colab": {
      "provenance": [],
      "gpuType": "T4"
    },
    "accelerator": "GPU",
    "gpuClass": "standard"
  },
  "nbformat": 4,
  "nbformat_minor": 5
}
